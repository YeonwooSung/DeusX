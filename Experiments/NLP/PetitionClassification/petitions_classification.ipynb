{
  "cells": [
    {
      "cell_type": "markdown",
      "metadata": {
        "id": "tXi5AmP60LX6"
      },
      "source": [
        "# Petitions Classification\n"
      ]
    },
    {
      "cell_type": "code",
      "source": [
        "from google.colab import drive\n",
        "\n",
        "drive.mount('/content/drive/')"
      ],
      "metadata": {
        "colab": {
          "base_uri": "https://localhost:8080/"
        },
        "id": "uHwwdM9LJodS",
        "outputId": "89d6ce14-4c79-491b-e95d-fc650d4c1dce"
      },
      "execution_count": 1,
      "outputs": [
        {
          "output_type": "stream",
          "name": "stdout",
          "text": [
            "Mounted at /content/drive/\n"
          ]
        }
      ]
    },
    {
      "cell_type": "code",
      "source": [
        "import os\n",
        "\n",
        "os.chdir(\"drive/\")\n",
        "os.chdir('My Drive')\n",
        "os.chdir('Tutorials')\n",
        "os.chdir('DeepLearningProject')\n",
        "os.chdir('PetitionClassification')"
      ],
      "metadata": {
        "id": "kR9SFUMR052v"
      },
      "execution_count": 2,
      "outputs": []
    },
    {
      "cell_type": "code",
      "execution_count": 3,
      "metadata": {
        "collapsed": true,
        "id": "opANKBbI0LX8"
      },
      "outputs": [],
      "source": [
        "import pandas as pd\n",
        "import numpy as np\n",
        "import matplotlib.pyplot as plt\n",
        "import requests\n",
        "from bs4 import BeautifulSoup\n",
        "import time"
      ]
    },
    {
      "cell_type": "code",
      "execution_count": 4,
      "metadata": {
        "collapsed": true,
        "colab": {
          "base_uri": "https://localhost:8080/",
          "height": 206
        },
        "id": "lnSpzPXb0LX8",
        "outputId": "8c023091-b707-4998-874c-ef91b218f60e"
      },
      "outputs": [
        {
          "output_type": "execute_result",
          "data": {
            "text/plain": [
              "   category                                            content  count  \\\n",
              "0    인권/성평등  본인은 2019년 8월 경 서울지방병무청 제1검사장 탈의실에서 믿을 수 없는 것을 ...    267   \n",
              "1     경제민주화  우리 나라 코스피 시총이 미국 애플보다 작다는 설이 돌 정도로 한국의 주식시장은 저...    271   \n",
              "2        행정  억울한 일로 국민청원을 신청합니다.\\r\\n\\r\\r\\n 저는 **구치소 **교도관입니...    198   \n",
              "3     안전/환경  미세먼지의 심각성은 이제 적극적인 대안을 요구 하고 있습니다.\\r\\r\\n우리 일상에...    170   \n",
              "4  교통/건축/국토  저는 우선 아이셋의 부모입니다.\\r\\r\\n식구가 많은편이고 아이들이 성장함에 따라 ...  2,127   \n",
              "\n",
              "          end       start                                              title  \n",
              "0  2020-02-01  2020-01-02  서울지방병무청 탈의실에 설치된 CCTV에 대한 진상규명을 요구한다. 또한 인권위의 ...  \n",
              "1  2020-02-01  2020-01-02                            주식시장 활성화 및 소액(개미)투자자 보호  \n",
              "2  2020-02-01  2020-01-02                                           교정기관의 민낮  \n",
              "3  2020-02-01  2020-01-02                                         미세먼지 저감 대책  \n",
              "4  2020-02-01  2020-01-02                       악질세입자 방지를 위한 세입자보호법을 재정해주세요.  "
            ],
            "text/html": [
              "\n",
              "  <div id=\"df-8dc1998a-a852-4e70-a2c9-044fd919c9d1\" class=\"colab-df-container\">\n",
              "    <div>\n",
              "<style scoped>\n",
              "    .dataframe tbody tr th:only-of-type {\n",
              "        vertical-align: middle;\n",
              "    }\n",
              "\n",
              "    .dataframe tbody tr th {\n",
              "        vertical-align: top;\n",
              "    }\n",
              "\n",
              "    .dataframe thead th {\n",
              "        text-align: right;\n",
              "    }\n",
              "</style>\n",
              "<table border=\"1\" class=\"dataframe\">\n",
              "  <thead>\n",
              "    <tr style=\"text-align: right;\">\n",
              "      <th></th>\n",
              "      <th>category</th>\n",
              "      <th>content</th>\n",
              "      <th>count</th>\n",
              "      <th>end</th>\n",
              "      <th>start</th>\n",
              "      <th>title</th>\n",
              "    </tr>\n",
              "  </thead>\n",
              "  <tbody>\n",
              "    <tr>\n",
              "      <th>0</th>\n",
              "      <td>인권/성평등</td>\n",
              "      <td>본인은 2019년 8월 경 서울지방병무청 제1검사장 탈의실에서 믿을 수 없는 것을 ...</td>\n",
              "      <td>267</td>\n",
              "      <td>2020-02-01</td>\n",
              "      <td>2020-01-02</td>\n",
              "      <td>서울지방병무청 탈의실에 설치된 CCTV에 대한 진상규명을 요구한다. 또한 인권위의 ...</td>\n",
              "    </tr>\n",
              "    <tr>\n",
              "      <th>1</th>\n",
              "      <td>경제민주화</td>\n",
              "      <td>우리 나라 코스피 시총이 미국 애플보다 작다는 설이 돌 정도로 한국의 주식시장은 저...</td>\n",
              "      <td>271</td>\n",
              "      <td>2020-02-01</td>\n",
              "      <td>2020-01-02</td>\n",
              "      <td>주식시장 활성화 및 소액(개미)투자자 보호</td>\n",
              "    </tr>\n",
              "    <tr>\n",
              "      <th>2</th>\n",
              "      <td>행정</td>\n",
              "      <td>억울한 일로 국민청원을 신청합니다.\\r\\n\\r\\r\\n 저는 **구치소 **교도관입니...</td>\n",
              "      <td>198</td>\n",
              "      <td>2020-02-01</td>\n",
              "      <td>2020-01-02</td>\n",
              "      <td>교정기관의 민낮</td>\n",
              "    </tr>\n",
              "    <tr>\n",
              "      <th>3</th>\n",
              "      <td>안전/환경</td>\n",
              "      <td>미세먼지의 심각성은 이제 적극적인 대안을 요구 하고 있습니다.\\r\\r\\n우리 일상에...</td>\n",
              "      <td>170</td>\n",
              "      <td>2020-02-01</td>\n",
              "      <td>2020-01-02</td>\n",
              "      <td>미세먼지 저감 대책</td>\n",
              "    </tr>\n",
              "    <tr>\n",
              "      <th>4</th>\n",
              "      <td>교통/건축/국토</td>\n",
              "      <td>저는 우선 아이셋의 부모입니다.\\r\\r\\n식구가 많은편이고 아이들이 성장함에 따라 ...</td>\n",
              "      <td>2,127</td>\n",
              "      <td>2020-02-01</td>\n",
              "      <td>2020-01-02</td>\n",
              "      <td>악질세입자 방지를 위한 세입자보호법을 재정해주세요.</td>\n",
              "    </tr>\n",
              "  </tbody>\n",
              "</table>\n",
              "</div>\n",
              "    <div class=\"colab-df-buttons\">\n",
              "\n",
              "  <div class=\"colab-df-container\">\n",
              "    <button class=\"colab-df-convert\" onclick=\"convertToInteractive('df-8dc1998a-a852-4e70-a2c9-044fd919c9d1')\"\n",
              "            title=\"Convert this dataframe to an interactive table.\"\n",
              "            style=\"display:none;\">\n",
              "\n",
              "  <svg xmlns=\"http://www.w3.org/2000/svg\" height=\"24px\" viewBox=\"0 -960 960 960\">\n",
              "    <path d=\"M120-120v-720h720v720H120Zm60-500h600v-160H180v160Zm220 220h160v-160H400v160Zm0 220h160v-160H400v160ZM180-400h160v-160H180v160Zm440 0h160v-160H620v160ZM180-180h160v-160H180v160Zm440 0h160v-160H620v160Z\"/>\n",
              "  </svg>\n",
              "    </button>\n",
              "\n",
              "  <style>\n",
              "    .colab-df-container {\n",
              "      display:flex;\n",
              "      gap: 12px;\n",
              "    }\n",
              "\n",
              "    .colab-df-convert {\n",
              "      background-color: #E8F0FE;\n",
              "      border: none;\n",
              "      border-radius: 50%;\n",
              "      cursor: pointer;\n",
              "      display: none;\n",
              "      fill: #1967D2;\n",
              "      height: 32px;\n",
              "      padding: 0 0 0 0;\n",
              "      width: 32px;\n",
              "    }\n",
              "\n",
              "    .colab-df-convert:hover {\n",
              "      background-color: #E2EBFA;\n",
              "      box-shadow: 0px 1px 2px rgba(60, 64, 67, 0.3), 0px 1px 3px 1px rgba(60, 64, 67, 0.15);\n",
              "      fill: #174EA6;\n",
              "    }\n",
              "\n",
              "    .colab-df-buttons div {\n",
              "      margin-bottom: 4px;\n",
              "    }\n",
              "\n",
              "    [theme=dark] .colab-df-convert {\n",
              "      background-color: #3B4455;\n",
              "      fill: #D2E3FC;\n",
              "    }\n",
              "\n",
              "    [theme=dark] .colab-df-convert:hover {\n",
              "      background-color: #434B5C;\n",
              "      box-shadow: 0px 1px 3px 1px rgba(0, 0, 0, 0.15);\n",
              "      filter: drop-shadow(0px 1px 2px rgba(0, 0, 0, 0.3));\n",
              "      fill: #FFFFFF;\n",
              "    }\n",
              "  </style>\n",
              "\n",
              "    <script>\n",
              "      const buttonEl =\n",
              "        document.querySelector('#df-8dc1998a-a852-4e70-a2c9-044fd919c9d1 button.colab-df-convert');\n",
              "      buttonEl.style.display =\n",
              "        google.colab.kernel.accessAllowed ? 'block' : 'none';\n",
              "\n",
              "      async function convertToInteractive(key) {\n",
              "        const element = document.querySelector('#df-8dc1998a-a852-4e70-a2c9-044fd919c9d1');\n",
              "        const dataTable =\n",
              "          await google.colab.kernel.invokeFunction('convertToInteractive',\n",
              "                                                    [key], {});\n",
              "        if (!dataTable) return;\n",
              "\n",
              "        const docLinkHtml = 'Like what you see? Visit the ' +\n",
              "          '<a target=\"_blank\" href=https://colab.research.google.com/notebooks/data_table.ipynb>data table notebook</a>'\n",
              "          + ' to learn more about interactive tables.';\n",
              "        element.innerHTML = '';\n",
              "        dataTable['output_type'] = 'display_data';\n",
              "        await google.colab.output.renderOutput(dataTable, element);\n",
              "        const docLink = document.createElement('div');\n",
              "        docLink.innerHTML = docLinkHtml;\n",
              "        element.appendChild(docLink);\n",
              "      }\n",
              "    </script>\n",
              "  </div>\n",
              "\n",
              "\n",
              "<div id=\"df-0ac04c70-6fda-402c-b334-a5ef05654438\">\n",
              "  <button class=\"colab-df-quickchart\" onclick=\"quickchart('df-0ac04c70-6fda-402c-b334-a5ef05654438')\"\n",
              "            title=\"Suggest charts\"\n",
              "            style=\"display:none;\">\n",
              "\n",
              "<svg xmlns=\"http://www.w3.org/2000/svg\" height=\"24px\"viewBox=\"0 0 24 24\"\n",
              "     width=\"24px\">\n",
              "    <g>\n",
              "        <path d=\"M19 3H5c-1.1 0-2 .9-2 2v14c0 1.1.9 2 2 2h14c1.1 0 2-.9 2-2V5c0-1.1-.9-2-2-2zM9 17H7v-7h2v7zm4 0h-2V7h2v10zm4 0h-2v-4h2v4z\"/>\n",
              "    </g>\n",
              "</svg>\n",
              "  </button>\n",
              "\n",
              "<style>\n",
              "  .colab-df-quickchart {\n",
              "      --bg-color: #E8F0FE;\n",
              "      --fill-color: #1967D2;\n",
              "      --hover-bg-color: #E2EBFA;\n",
              "      --hover-fill-color: #174EA6;\n",
              "      --disabled-fill-color: #AAA;\n",
              "      --disabled-bg-color: #DDD;\n",
              "  }\n",
              "\n",
              "  [theme=dark] .colab-df-quickchart {\n",
              "      --bg-color: #3B4455;\n",
              "      --fill-color: #D2E3FC;\n",
              "      --hover-bg-color: #434B5C;\n",
              "      --hover-fill-color: #FFFFFF;\n",
              "      --disabled-bg-color: #3B4455;\n",
              "      --disabled-fill-color: #666;\n",
              "  }\n",
              "\n",
              "  .colab-df-quickchart {\n",
              "    background-color: var(--bg-color);\n",
              "    border: none;\n",
              "    border-radius: 50%;\n",
              "    cursor: pointer;\n",
              "    display: none;\n",
              "    fill: var(--fill-color);\n",
              "    height: 32px;\n",
              "    padding: 0;\n",
              "    width: 32px;\n",
              "  }\n",
              "\n",
              "  .colab-df-quickchart:hover {\n",
              "    background-color: var(--hover-bg-color);\n",
              "    box-shadow: 0 1px 2px rgba(60, 64, 67, 0.3), 0 1px 3px 1px rgba(60, 64, 67, 0.15);\n",
              "    fill: var(--button-hover-fill-color);\n",
              "  }\n",
              "\n",
              "  .colab-df-quickchart-complete:disabled,\n",
              "  .colab-df-quickchart-complete:disabled:hover {\n",
              "    background-color: var(--disabled-bg-color);\n",
              "    fill: var(--disabled-fill-color);\n",
              "    box-shadow: none;\n",
              "  }\n",
              "\n",
              "  .colab-df-spinner {\n",
              "    border: 2px solid var(--fill-color);\n",
              "    border-color: transparent;\n",
              "    border-bottom-color: var(--fill-color);\n",
              "    animation:\n",
              "      spin 1s steps(1) infinite;\n",
              "  }\n",
              "\n",
              "  @keyframes spin {\n",
              "    0% {\n",
              "      border-color: transparent;\n",
              "      border-bottom-color: var(--fill-color);\n",
              "      border-left-color: var(--fill-color);\n",
              "    }\n",
              "    20% {\n",
              "      border-color: transparent;\n",
              "      border-left-color: var(--fill-color);\n",
              "      border-top-color: var(--fill-color);\n",
              "    }\n",
              "    30% {\n",
              "      border-color: transparent;\n",
              "      border-left-color: var(--fill-color);\n",
              "      border-top-color: var(--fill-color);\n",
              "      border-right-color: var(--fill-color);\n",
              "    }\n",
              "    40% {\n",
              "      border-color: transparent;\n",
              "      border-right-color: var(--fill-color);\n",
              "      border-top-color: var(--fill-color);\n",
              "    }\n",
              "    60% {\n",
              "      border-color: transparent;\n",
              "      border-right-color: var(--fill-color);\n",
              "    }\n",
              "    80% {\n",
              "      border-color: transparent;\n",
              "      border-right-color: var(--fill-color);\n",
              "      border-bottom-color: var(--fill-color);\n",
              "    }\n",
              "    90% {\n",
              "      border-color: transparent;\n",
              "      border-bottom-color: var(--fill-color);\n",
              "    }\n",
              "  }\n",
              "</style>\n",
              "\n",
              "  <script>\n",
              "    async function quickchart(key) {\n",
              "      const quickchartButtonEl =\n",
              "        document.querySelector('#' + key + ' button');\n",
              "      quickchartButtonEl.disabled = true;  // To prevent multiple clicks.\n",
              "      quickchartButtonEl.classList.add('colab-df-spinner');\n",
              "      try {\n",
              "        const charts = await google.colab.kernel.invokeFunction(\n",
              "            'suggestCharts', [key], {});\n",
              "      } catch (error) {\n",
              "        console.error('Error during call to suggestCharts:', error);\n",
              "      }\n",
              "      quickchartButtonEl.classList.remove('colab-df-spinner');\n",
              "      quickchartButtonEl.classList.add('colab-df-quickchart-complete');\n",
              "    }\n",
              "    (() => {\n",
              "      let quickchartButtonEl =\n",
              "        document.querySelector('#df-0ac04c70-6fda-402c-b334-a5ef05654438 button');\n",
              "      quickchartButtonEl.style.display =\n",
              "        google.colab.kernel.accessAllowed ? 'block' : 'none';\n",
              "    })();\n",
              "  </script>\n",
              "</div>\n",
              "\n",
              "    </div>\n",
              "  </div>\n"
            ],
            "application/vnd.google.colaboratory.intrinsic+json": {
              "type": "dataframe",
              "variable_name": "df",
              "summary": "{\n  \"name\": \"df\",\n  \"rows\": 10881,\n  \"fields\": [\n    {\n      \"column\": \"category\",\n      \"properties\": {\n        \"dtype\": \"category\",\n        \"num_unique_values\": 17,\n        \"samples\": [\n          \"\\uc778\\uad8c/\\uc131\\ud3c9\\ub4f1\",\n          \"\\uacbd\\uc81c\\ubbfc\\uc8fc\\ud654\",\n          \"\\uc77c\\uc790\\ub9ac\"\n        ],\n        \"semantic_type\": \"\",\n        \"description\": \"\"\n      }\n    },\n    {\n      \"column\": \"content\",\n      \"properties\": {\n        \"dtype\": \"string\",\n        \"num_unique_values\": 10878,\n        \"samples\": [\n          \"\\ubbf8\\uad6d \\uc77c\\ubcf8\\ucc98\\ub7fc \\uc758\\ub8cc\\uc804\\ubb38\\uac00\\uac00 \\uc7a5\\uad00\\uc778 \\ubcf4\\uac74\\ubd80\\ub97c \\uc2e0\\uc124\\ud558\\uc5ec \\ubc29\\uc5ed\\ubc0f \\uc758\\ub8cc\\uc815\\ucc45\\uc5d0 \\ub300\\ud55c  \\uc804\\ubb38\\uac00\\uc758 \\uc758\\uacac\\uc774  \\ud68d\\uc2e4\\ud788 \\ubc18\\uc601\\ub418\\uc5b4  \\uad6d\\ubbfc\\uc758  \\uac74\\uac15\\uad8c\\uc774  \\ub354\\uc774\\uc0c1 \\uc815\\uce58\\ub17c\\ub9ac\\uc5d0  \\ubc00\\ub824  \\ubc29\\uc5ed\\ubc0f  \\uc758\\ub8cc\\uac00  \\ud718\\ub458\\ub9ac\\ub294  \\uc77c\\uc774  \\uc5c6\\ub3c4\\ub85d \\ud574\\uc8fc\\uc138\\uc694.  \\r\\r\\n\\uc0dd\\uba85\\uc774  \\uc704\\ud611\\ubc1b\\ub294\\ub370   \\uc758\\ub8cc\\uc804\\ubb38\\uac00\\uc758 \\uc758\\uacac\\ubcf4\\ub2e4 \\uc815\\uce58\\ub17c\\ub9ac\\uc5d0 \\uc758\\ud574  \\uc6c0\\uc9c1\\uc774\\ub294 \\ud6c4\\uc9c4\\uc801\\uc758\\ub8cc\\uc2dc\\uc2a4\\ud15c\\r\\r\\n\\uc774\\uc81c \\uadf8\\ub9cc\\ud569\\uc2dc\\ub2e4\",\n          \"\\uc548\\ub155\\ud558\\uc138\\uc694 . \\r\\r\\n\\uc800\\ub294 \\ubd80\\ub3d9\\uc0b0 \\uc790\\uc601\\uc5c5\\uc790\\ub85c\\uc11c \\ucf54\\ub85c\\ub098\\ub97c \\ub9cc\\ub09c\\uc774\\ud6c4 \\uadf9\\uc2ec\\ud55c \\uacbd\\uc81c\\ub09c\\uc5d0 \\uc2dc\\ub2ec\\ub9ac\\uace0 \\uc788\\ub294 \\ud55c \\uc0ac\\ub78c\\uc785\\ub2c8\\ub2e4. \\r\\r\\n\\uac00\\ub729\\uc774\\ub098 \\ucf54\\ub85c\\ub098 \\uc5ec\\ud30c\\ub85c \\ud798\\ub4e4\\uc5b4\\uc8fd\\uaca0\\ub294\\ub370 \\uc800\\ud76c \\uc9c0\\uc5ed\\uc5d0\\ub294 \\uc9c1\\uc5c5\\uc774 \\uacbd\\ucc30\\uc774\\uba74\\uc11c \\ubd80\\ub3d9\\uc0b0\\uc5d0 \\uc790\\uae08\\uc744 \\ud22c\\uc785\\ud558\\uc5ec \\ub530\\ub85c \\ub610 \\uc6b4\\uc601\\ud558\\uace0 \\uc788\\ub294\\r\\r\\n\\uc0ac\\ub78c\\uc774 \\uc788\\uc2b5\\ub2c8\\ub2e4.  \\uadf8\\ubd84\\uc740 \\uc800\\ud76c \\uc9c0\\uc5ed\\uc5d0\\uc120 \\ucc38\\uc73c\\ub85c \\uc720\\uba85\\ud55c \\uc0ac\\ub78c\\uc785\\ub2c8\\ub2e4. \\r\\r\\n\\uadf8\\ub798\\uc11c \\uc800\\ud76c\\ub294 \\uc720\\uba85\\uc778\\uc73c\\ub85c \\ubd80\\ub974\\uc8e0 . \\r\\r\\n\\uc720\\uba85\\uc778\\uc740 \\uc791\\ub144\\uc5d0 '\\ub0ae\\uc5d0\\ub294 \\uacbd\\ucc30 \\ubc24\\uc5d0\\ub294 00\\uc785\\uc608\\ud611\\ud68c\\uc7a5' \\uc774\\ub77c\\uba70 \\uacb8\\uc9c1\\uc5d0 \\ub300\\ud55c \\ubb38\\uc81c\\uac00 \\uc57c\\uae30\\ub418\\uc5b4 \\uae30\\uc0ac\\ub3c4 \\ub09c\\uac78 \\ubcf4\\uc558\\uc2b5\\ub2c8\\ub2e4. \\r\\r\\n\\uadf8\\ub7f0\\ub370 \\uacbd\\ucc30\\uc5d0\\uc11c\\ub294 \\uadf8\\ub54c\\ub3c4 \\uc544\\ubb34\\ub7f0 \\uc870\\uce58\\ub97c \\ucde8\\ud558\\uc9c0 \\uc54a\\uc558\\ub2e4\\ub354\\uad70\\uc694 ?\\r\\n\\r\\r\\n1. \\uacf5\\uc778\\uc911\\uac1c\\uc0ac\\ubc95\\uc5d0 \\ub530\\ub974\\uba74 \\uacf5\\uc778\\uc911\\uac1c\\uc0ac \\uc790\\uaca9\\uc774 \\uc5c6\\ub294 \\uc0ac\\ub78c\\uc740 \\ubd80\\ub3d9\\uc0b0\\uc911\\uac1c\\uc5c5\\uc18c\\ub97c \\uc6b4\\uc601\\ud560 \\uc218 \\uc5c6\\ub2e4\\uace0 \\uaddc\\uc815\\ud55c\\ub2e4.\\r\\n\\r\\r\\n2. \\uad6d\\uac00\\uacf5\\ubb34\\uc6d0\\ubcf5\\ubb34\\uaddc\\uc815 <\\ubc95\\uc81c\\ucc98\\ucc38\\uc870>\\r\\r\\n\\uc81c25\\uc870(\\uc601\\ub9ac \\uc5c5\\ubb34\\uc758 \\uae08\\uc9c0) \\uacf5\\ubb34\\uc6d0\\uc740 \\ub2e4\\uc74c \\uac01 \\ud638\\uc758 \\uc5b4\\ub290 \\ud558\\ub098\\uc5d0 \\ud574\\ub2f9\\ud558\\ub294 \\uc5c5\\ubb34\\uc5d0 \\uc885\\uc0ac\\ud568\\uc73c\\ub85c\\uc368 \\uacf5\\ubb34\\uc6d0\\uc758 \\uc9c1\\ubb34 \\ub2a5\\ub960\\uc744 \\ub5a8\\uc5b4\\ub728\\ub9ac\\uac70\\ub098, \\uacf5\\ubb34\\uc5d0 \\ub300\\ud558\\uc5ec \\ubd80\\ub2f9\\ud55c \\uc601\\ud5a5\\uc744 \\ub07c\\uce58\\uac70\\ub098, \\uad6d\\uac00\\uc758 \\uc774\\uc775\\uacfc \\uc0c1\\ubc18\\ub418\\ub294 \\uc774\\uc775\\uc744 \\ucde8\\ub4dd\\ud558\\uac70\\ub098, \\uc815\\ubd80\\uc5d0 \\ubd88\\uba85\\uc608\\uc2a4\\ub7ec\\uc6b4 \\uc601\\ud5a5\\uc744 \\ub07c\\uce60 \\uc6b0\\ub824\\uac00 \\uc788\\ub294 \\uacbd\\uc6b0\\uc5d0\\ub294 \\uadf8 \\uc5c5\\ubb34\\uc5d0 \\uc885\\uc0ac\\ud560 \\uc218 \\uc5c6\\ub2e4.\\r\\r\\n  1. \\uacf5\\ubb34\\uc6d0\\uc774 \\uc0c1\\uc5c5, \\uacf5\\uc5c5, \\uae08\\uc735\\uc5c5 \\ub610\\ub294 \\uadf8 \\ubc16\\uc758 \\uc601\\ub9ac\\uc801\\uc778 \\uc5c5\\ubb34\\ub97c \\uc2a4\\uc2a4\\ub85c \\uacbd\\uc601\\ud558\\uc5ec \\uc601\\ub9ac\\ub97c \\ucd94\\uad6c\\ud568\\uc774 \\ub69c\\ub837\\ud55c \\uc5c5\\ubb34\\r\\r\\n  2. \\uacf5\\ubb34\\uc6d0\\uc774 \\uc0c1\\uc5c5, \\uacf5\\uc5c5, \\uae08\\uc735\\uc5c5 \\ub610\\ub294 \\uadf8 \\ubc16\\uc5d0 \\uc601\\ub9ac\\ub97c \\ubaa9\\uc801\\uc73c\\ub85c \\ud558\\ub294 \\uc0ac\\uae30\\uc5c5\\uccb4(\\u79c1\\u4f01\\u696d\\u9ad4)\\uc758 \\uc774\\uc0ac\\u318d\\uac10\\uc0ac \\uc5c5\\ubb34\\ub97c \\uc9d1\\ud589\\ud558\\ub294 \\ubb34\\ud55c\\ucc45\\uc784\\uc0ac\\uc6d0\\u318d\\uc9c0\\ubc30\\uc778\\u318d\\ubc1c\\uae30\\uc778 \\ub610\\ub294 \\uadf8 \\ubc16\\uc758 \\uc784\\uc6d0\\uc774 \\ub418\\ub294 \\uac83\\r\\r\\n  3. \\uacf5\\ubb34\\uc6d0 \\ubcf8\\uc778\\uc758 \\uc9c1\\ubb34\\uc640 \\uad00\\ub828 \\uc788\\ub294 \\ud0c0\\uc778\\uc758 \\uae30\\uc5c5\\uc5d0 \\ub300\\ud55c \\ud22c\\uc790\\r\\r\\n  4. \\uadf8 \\ubc16\\uc5d0 \\uacc4\\uc18d\\uc801\\uc73c\\ub85c \\uc7ac\\uc0b0\\uc0c1 \\uc774\\ub4dd\\uc744 \\ubaa9\\uc801\\uc73c\\ub85c \\ud558\\ub294 \\uc5c5\\ubb34\\r\\r\\n[\\uc804\\ubb38\\uac1c\\uc815 2011. 7. 4.]\\r\\n\\r\\r\\n\\uc774 \\uc720\\uba85\\uc778\\uc740 \\uacf5\\uc778\\uc911\\uac1c\\uc0ac\\ubc95\\uc5d0 \\uc5b4\\uae0b\\ub098\\uac8c \\ubd80\\ub3d9\\uc0b0\\uc744 \\uc6b4\\uc601\\ud558\\uace0\\uc788\\uc2b5\\ub2c8\\ub2e4. \\r\\r\\n\\uacf5\\uc778\\uc911\\uac1c\\uc0ac\\uc790\\uaca9\\uc99d\\uc774 \\uc788\\ub294 \\uc0ac\\ub78c\\uc744 \\ubaa8\\uc154\\ub2e4\\uac00 \\uc9c0\\ubd84\\uc744 \\ub123\\uc5c8\\ub2e4\\ub294 \\uc790\\uae30 \\uba85\\ubd84\\uc744 \\ub0b4\\uc138\\uc6cc \\ubd80\\ub3d9\\uc0b0\\uc744 \\ud568\\uaed8 \\uc6b4\\uc601\\ud558\\uace0 \\uc788\\uace0 \\r\\r\\n\\uc774\\uac83\\uc740 \\uace7 \\uad6d\\uac00\\uacf5\\ubb34\\uc6d0\\ubcf5\\ubb34\\uaddc\\uc815\\uc778 \\uad6d\\uac00 \\uc774\\uc775\\uacfc \\uc0c1\\ubc18\\ub418\\ub294 \\uc774\\uc775\\uc744 \\ucde8\\ub4dd\\ud558\\uace0 \\uc788\\ub2e4\\ub294\\uac81\\ub2c8\\ub2e4. \\r\\n\\r\\r\\n\\uc774\\uac8c \\uacb8\\uc9c1\\uc774 \\uc544\\ub2c8\\ub780\\ub9d0\\uc785\\ub2c8\\uae4c? \\ub2e8\\uc9c0 \\uc9c0\\ubd84\\ud22c\\uc790\\ub77c\\uace0 \\ud574\\uc11c\\uc694? \\r\\n\\r\\r\\n\\uc790 \\uadf8\\ub7ec\\uba74 , \\r\\n\\r\\r\\n\\uc120\\ub7c9\\ud55c \\uc2dc\\ubbfc\\uc744 \\ub3c4\\uc640\\uc57c\\ud558\\ub294 \\ubbfc\\uc911\\uc758 \\uc9c0\\ud321\\uc774\\uc778 \\uacbd\\ucc30\\uad00\\uc774 \\uc120\\ub7c9\\ud55c \\uc2dc\\ubbfc\\ub4e4\\uc744 \\uc791\\ub144\\ubd80\\ud130 '\\uc544\\ud30c\\ud2b8\\uc785\\uc608\\ud611\\ud68c\\uc7a5'\\uc774\\ub780 \\uad8c\\ub825\\uc544\\ub798 \\r\\r\\n\\uc911\\uac1c\\uc5c5\\uc18c\\ub4e4\\uc774 \\ud5c8\\uc704\\ub9e4\\ubb3c\\uc744 \\uc62c\\ub9ac\\ub294 \\ub4f1 \\uad00\\ud589\\uc801 \\ubcd1\\ud3d0\\ub97c \\ubc14\\ub85c\\uc7a1\\ub294\\ub2e4\\ub294 \\ubaa9\\uc801\\uc73c\\ub85c \\ud074\\ub9b0\\ubd80\\ub3d9\\uc0b0 \\uc81c\\ub3c4\\ub97c \\ub9cc\\ub4e4\\uc5c8\\uc5c8\\uace0 \\r\\r\\n\\ub2f9\\uc2dc \\uacf5\\uc778\\uc911\\uac1c\\uc0ac\\ub4e4\\uc5d0\\uac8c\\ub294 \\uc2e0\\uaddc\\uc544\\ud30c\\ud2b8\\uc758 \\uc785\\uc8fc\\uc2dc\\uae30\\uac00 \\uac00\\uc7a5 '\\uace8\\ub4e0\\ud0c0\\uc784'\\uc778\\ub370 \\uadf8\\ub54c \\uadf8 \\uad8c\\ub825\\uc73c\\ub85c \\ub9cc\\ub4e0 \\uc544\\ud30c\\ud2b8 \\ud074\\ub9b0\\ubd80\\ub3d9\\uc0b0\\uc5d0 \\ub4e4\\uc5b4\\uc624\\uc9c0 \\uc54a\\ub294 \\uacf5\\uc778\\uc911\\uac1c\\uc0ac\\ub4e4\\uc740 \\uc628\\ub77c\\uc778 \\ub9c8\\ub140\\uc0ac\\ub0e5\\uc744 \\ub2f9\\ud558\\uc5ec \\ub9e4\\ubb3c\\ub3c4 \\uc81c\\ub300\\ub85c \\ubabb \\ubc1b\\uac8c \\ub9cc\\ub4e4\\uace0 \\uc9c0\\uae08\\uae4c\\uc9c0\\ub3c4 \\ub180\\uac8c \\ub9cc\\ub4e4\\uc5b4\\ub1a8\\uc2b5\\ub2c8\\ub2e4.\\r\\r\\n\\uadf8\\ub7f0\\ub370  \\uc544\\ud30c\\ud2b8\\uc785\\uc608\\ud611\\ud68c\\uc7a5 \\uc774\\uc790 \\uacbd\\ucc30\\uad00 \\uc774\\uc790 S\\ubd80\\ub3d9\\uc0b0\\ub300\\ud45c\\ub294 \\ub610 !! \\r\\r\\n\\uac70\\ub9ac\\uac00 1\\ud0a4\\ub85c \\uc815\\ub3c4 \\ub418\\ub294\\uacf3\\uc5d0 S\\ubd80\\ub3d9\\uc0b02\\ud638\\uc810?\\uc744 \\ub0c8\\uc2b5\\ub2c8\\ub2e4. \\uadf8 S\\ubd80\\ub3d9\\uc0b0\\uc758 \\uc9c1\\uc6d0\\uc740 \\ubc95\\uc778\\ub3c4 \\uc544\\ub2cc\\ub370 \\uc660S\\ubd80\\ub3d9\\uc0b0 2\\ud638\\uc810\\uc774\\ub77c\\uace0 \\ud588\\uc744\\uae4c\\uc694? \\uc2e0\\uc785\\uc774\\ub77c \\uc788\\ub294 \\uc0ac\\uc2e4 \\uadf8\\ub300\\ub85c \\ub9d0\\ud588\\ub098\\ubd05\\ub2c8\\ub2e4. \\uacf5\\uc778\\uc911\\uac1c\\uc0ac\\ubc95 \\uc774\\uc911\\ub4f1\\ub85d\\uc740 \\uc548\\ub429\\ub2c8\\ub2e4. \\uc790\\uaca9\\ucde8\\uc18c\\ub420\\uc218\\uc788\\uc2b5\\ub2c8\\ub2e4.  \\r\\r\\n\\uadf8\\ubfd0\\uc774\\uaca0\\uc2b5\\ub2c8\\uae4c? \\r\\r\\n\\uc791\\ub144 \\uadf8\\ub807\\uac8c S\\ubd80\\ub3d9\\uc0b0 \\uc678 250\\uc5c5\\uccb4 \\ubd80\\ub3d9\\uc0b0\\uc744 \\uc0ac\\uae30\\uafbc\\uc73c\\ub85c  \\ubab0\\uace0 00\\uc5f0\\ud569\\ud68c\\uae4c\\ud398\\uc5d0 \\uc628\\uac16 \\ub313\\uae00\\ub85c \\ub9c8\\ub140\\uc0ac\\ub0e5\\uc744 \\ud574\\ub193\\uace0\\uc120 \\r\\r\\n\\ud63c\\uc790 \\ub3c8\\ubc8c\\uae30 \\ud798\\ub4e4\\uc5c8\\ub294\\uc9c0 \\uc800\\ub791\\ub3c4 \\uce5c\\uad6c\\ub97c \\ud558\\uaca0\\ub2e4\\uace0 \\ubab0\\ub798 \\uc81c \\ub3d9\\ucc3d\\ud68c\\uc5d0 \\ub4e4\\uc5b4\\uc640\\uc788\\uc2b5\\ub2c8\\ub2e4.\\r\\r\\n\\uc800\\ud76c \\ubaa8\\ub450 \\uacf5\\uac1c\\uc0ac\\uacfc\\ub97c \\uc694\\uad6c\\ud588\\ub294\\ub370 \\uc644\\uc804 \\ubb34\\uc2dc\\ub2f9\\ud588\\uace0 \\uc624\\ud788\\ub824 \\ub9e4\\ubb3c\\uc744 \\ub2ec\\ub77c\\uace0 \\ud558\\ub354\\ub77c\\uace0\\uc694. \\uc5b4\\uca4c\\uaca0\\uc5b4\\uc694~ \\ubbf8\\uc6cc\\ub3c4 \\uc918\\uc57c\\uc8e0. \\r\\r\\n\\uc548\\uc8fc\\uba74 \\ubc95\\uc5d0 \\uac78\\ub9ac\\ub294 \\uc138\\uc0c1\\uc774\\ub2c8\\uae4c\\uc694. \\uacbd\\ucc30\\uc774\\ub77c \\ubc95\\uc744 \\uc88b\\uc544\\ud558\\uc2dc\\ub294 \\ubd84\\uc774\\uc5d0\\uc694 . \\uacf5\\uc815\\uac70\\ub798\\ubc95\\uc744 \\uc6b4\\uc6b4\\ud558\\uc154\\uc11c\\uc694. \\r\\r\\n\\uc815\\ub9d0 \\uba38\\ub9ac\\uac00 \\uc88b\\uc740\\ubd84\\uc785\\ub2c8\\ub2e4. \\r\\n\\r\\r\\n\\uc791\\ub144 \\uae30\\uc0ac\\ub0b4\\uc6a9 \\ubd80\\ubd84 \\ucca8\\ubd80\\ud569\\ub2c8\\ub2e4. \\r\\r\\n<\\uacbd\\uc778\\uc77c\\ubcf4 \\uae40** \\uae30\\uc790\\uae00 \\ucc38\\uc870.>\\r\\n\\r\\r\\n\\\"\\ud2b9\\uc815 \\ubd80\\ub3d9\\uc0b0\\uc911\\uac1c\\uc5c5\\uc18c\\uc5d0 \\uacc4\\uc57d\\uc744 \\ubab0\\uc544\\uc918 \\uad11\\uad50\\uc9c0\\uc5ed \\uc911\\uac1c\\uc5c5\\uc18c\\ub4e4\\uc758 \\ubc18\\ubc1c(5\\uc6d4 3\\uc77c\\uc790 7\\uba74 \\ubcf4\\ub3c4)\\uc744 \\uc0b0 \\uad11\\uad50 00 \\uc785\\uc8fc\\uc608\\uc815\\uc790\\ud611\\uc758\\ud68c(\\uc774\\ud558 \\uc785\\uc608\\ud611)\\uc758 \\ud68c\\uc7a5\\uc774 \\uc120\\uc815\\ud55c \\uc911\\uac1c\\uc5c5\\uc18c\\uc5d0 \\uc790\\uae08\\uc744 \\ud22c\\uc785\\ud558\\uace0 \\uc774\\ub4dd\\uc744 \\ucde8\\ud588\\ub2e4\\ub294 \\uc758\\ud639\\uc774 \\ubd88\\uac70\\uc84c\\ub2e4.\\r\\n\\r\\r\\n\\ub354\\uad6c\\ub098 \\uc774 \\ud68c\\uc7a5\\uc774 \\uacb8\\uc9c1\\uc744 \\uc5c4\\uaca9\\ud788 \\uae08\\uc9c0\\ud558\\ub294 \\ud604\\uc9c1 \\uacbd\\ucc30\\uad00\\uc774\\ub77c\\ub294 \\uc810\\uc774 \\ub4dc\\ub7ec\\ub098\\uc790 \\uc785\\uc8fc\\ubbfc\\ub4e4\\uacfc \\ud074\\ub9b0\\ubd80\\ub3d9\\uc0b0 \\ubbf8\\uc120\\uc815 \\uc911\\uac1c\\uc5c5\\uc18c\\ub4e4\\uc774 \\ub3c4\\ub355\\uc131 \\ubb38\\uc81c\\ub97c \\ub4e4\\uace0 \\ub098\\uc130\\ub2e4.\\r\\n\\r\\r\\n13\\uc77c \\uacbd\\uc778\\uc77c\\ubcf4 \\ucde8\\uc7ac \\uacb0\\uacfc, \\uc785\\uc608\\ud611 \\ud68c\\uc7a5 C\\uc528\\uac00 \\ud074\\ub9b0\\ubd80\\ub3d9\\uc0b0\\uc73c\\ub85c \\uc120\\uc815\\ud55c 6\\uacf3 \\uc911 1\\uacf3\\uc778 S\\ubd80\\ub3d9\\uc0b0\\uacf5\\uc778\\uc911\\uc0ac\\uac1c\\uc0ac\\ubb34\\uc18c\\uc5d0 \\uc790\\uae08\\uc744 \\ud22c\\uc785\\ud558\\uace0 \\uc6b4\\uc601\\uc5d0 \\uac1c\\uc785\\ud55c \\uc815\\ud669\\uc774 \\ud3ec\\ucc29\\ub410\\ub2e4.\\r\\n\\r\\r\\nC\\uc528\\ub294 \\uacbd\\uae30\\ub3c4\\uc758 \\ud55c \\uacbd\\ucc30\\uc11c\\uc5d0 \\uadfc\\ubb34 \\uc911\\uc778 \\ud604\\uc9c1 \\uacbd\\ucc30\\uad00\\uc778 \\uac83\\uc73c\\ub85c\\ub3c4 \\ud30c\\uc545\\ub410\\ub2e4. \\uacf5\\ubb34\\uc6d0 \\ubcf5\\ubb34\\uaddc\\uc815 25\\uc870\\ub97c \\ubcf4\\uba74 \\uc7ac\\uc0b0\\uc0c1 \\uc774\\ub4dd\\uc744 \\ubaa9\\uc801\\uc73c\\ub85c \\ud558\\ub294 \\uc5c5\\ubb34\\ub97c \\ud574\\uc120 \\uc548 \\ub41c\\ub2e4\\uace0 \\uba85\\uc2dc\\ub3fc \\uc788\\ub2e4.\\r\\n\\r\\r\\n\\uc55e\\uc11c \\uc785\\uc608\\ud611\\uc740 \\uc911\\uac1c\\uc5c5\\uc18c\\ub4e4\\uc774 \\ud5c8\\uc704\\ub9e4\\ubb3c\\uc744 \\uc62c\\ub9ac\\ub294 \\ub4f1 \\uad00\\ud589\\uc801 \\ubcd1\\ud3d0\\ub97c \\ubc14\\ub85c\\uc7a1\\ub294\\ub2e4\\ub294 \\ubaa9\\uc801\\uc73c\\ub85c \\ud074\\ub9b0\\ubd80\\ub3d9\\uc0b0 \\uc81c\\ub3c4\\ub97c \\uc2dc\\ud589\\ud588\\ub2e4. \\ub2f9\\uc2dc \\uc785\\uc8fc\\uc608\\uc815\\uc790\\ub4e4\\uc740 \\uc785\\uc608\\ud611 \\ubaa9\\uc801\\uc5d0 \\ub3d9\\uc870\\ud558\\uba70 \\uc81c\\ub3c4\\ub97c \\ud658\\uc601\\ud588\\ub2e4.\\r\\n\\r\\r\\n\\ud558\\uc9c0\\ub9cc C\\uc528\\uac00 \\ud074\\ub9b0\\ubd80\\ub3d9\\uc0b0\\uc73c\\ub85c \\uc120\\uc815\\ub41c \\uc5c5\\uc18c\\uc5d0 \\ud22c\\uc790\\ud55c \\uc0ac\\uc2e4\\uc774 \\uc54c\\ub824\\uc9c0\\uc790 \\uc758\\ub3c4\\uc801\\uc73c\\ub85c \\ubd80\\ub3d9\\uc0b0 \\uce74\\ub974\\ud154\\uc744 \\uad6c\\uc131\\ud574 \\uc774\\ub4dd\\uc744 \\ucde8\\ud558\\ub824 \\ud55c \\uac83 \\uc544\\ub2c8\\ub0d0\\ub294 \\uc758\\ud639\\uc774 \\ubd88\\uac70\\uc9c0\\uace0 \\uc788\\ub2e4.\\r\\n\\r\\r\\n\\ud55c \\uc785\\uc8fc\\uc608\\uc815\\uc790\\ub294 \\\"\\ucc98\\uc74c\\uc5d4 \\ubd80\\ub3d9\\uc0b0 \\uc774\\ub984\\uc744 \\uacf5\\uac1c\\ud558\\uc9c0 \\uc54a\\uc740 \\ucc44 \\uace0\\uae09 \\uc815\\ubcf4\\ub85c \\uc0ac\\ub78c\\ub4e4\\uc758 \\ud658\\uc2ec\\uc744 \\uc0ac\\ub354\\ub2c8 \\uc5b4\\ub290 \\uc21c\\uac04 S\\ubd80\\ub3d9\\uc0b0\\uc73c\\ub85c \\uc774\\ub984\\uc744 \\ubc14\\uafd4 \\ud074\\ub9b0\\ubd80\\ub3d9\\uc0b0 \\uc81c\\ub3c4\\ub97c \\ud64d\\ubcf4\\ud558\\uae30 \\uc2dc\\uc791\\ud588\\ub2e4\\\"\\uba70 \\\"\\ub3c4\\uc785 \\uacfc\\uc815\\uc5d0 \\ubd88\\ubc95\\uc740 \\uc5c6\\ub294\\uc9c0, \\uc218\\uc218\\ub8cc \\uc7a5\\uc0ac \\ub4f1 \\uc0ac\\uc775\\uc744 \\ucd94\\uad6c\\ud558\\ub824 \\ud55c \\uac74 \\uc544\\ub2cc\\uc9c0 \\uc785\\uc7a5 \\ud45c\\uba85\\uc744 \\ud574\\uc57c \\ud55c\\ub2e4\\\"\\uace0 \\ub9d0\\ud588\\ub2e4.\\r\\n\\r\\r\\n2\\ucc9c231\\uc138\\ub300 \\uaddc\\ubaa8\\uc758 \\uad11\\uad5000\\uc758 \\uc804\\uc6a9\\uba74\\uc801 84\\u33a1 \\uae30\\uc900 \\uc2dc\\uc138\\ub294 12\\uc5b5\\uc6d0 \\uc548\\ud30e\\uc73c\\ub85c \\ub9e4\\ub9e4 \\uc911\\uac1c\\uc218\\uc218\\ub8cc\\ub294 1\\ucc9c80\\ub9cc\\uc6d0 \\uac00\\ub7c9\\uc774\\ub2e4. \\uc784\\ub300 \\uc911\\uac1c\\uc218\\uc218\\ub8cc\\ub294 6\\uc5b5\\uc6d0 \\uc815\\ub3c4\\uc778 \\uc804\\uc138 \\uc2dc\\uc138\\ub97c \\uace0\\ub824\\ud560 \\ub54c \\uc57d 480\\ub9cc\\uc6d0\\uc774\\ub2e4.\\r\\n\\r\\r\\n\\uacf5\\uc778\\uc911\\uac1c\\uc0ac\\ubc95\\uc5d0 \\ub530\\ub974\\uba74 \\uacf5\\uc778\\uc911\\uac1c\\uc0ac \\uc790\\uaca9\\uc774 \\uc5c6\\ub294 \\uc0ac\\ub78c\\uc740 \\ubd80\\ub3d9\\uc0b0\\uc911\\uac1c\\uc5c5\\uc18c\\ub97c \\uc6b4\\uc601\\ud560 \\uc218 \\uc5c6\\ub2e4\\uace0 \\uaddc\\uc815\\ud55c\\ub2e4.\\r\\n\\r\\r\\n\\ud074\\ub9b0\\ubd80\\ub3d9\\uc0b0\\uc5d0\\uc11c \\ubc30\\uc81c\\ub41c \\uad11\\uad50\\uc9c0\\uc5ed \\ubd80\\ub3d9\\uc0b0 \\uc5c5\\uc18c\\ub4e4\\uc740 \\uc785\\uc608\\ud611 \\uc81c\\ub3c4 \\uc790\\uccb4\\uc5d0 \\uc758\\ubb38\\uc744 \\uc81c\\uae30\\ud558\\uace0 \\uc788\\ub2e4. \\uad11\\uad50\\uacf5\\uc778\\uc911\\uac1c\\uc0ac \\uad00\\uacc4\\uc790\\ub294 \\\"\\ud5c8\\uc704\\ub9e4\\ubb3c \\ub4f1\\uc744 \\ub9c9\\uae30 \\uc704\\ud574\\uc120 \\ubd88\\uacf5\\uc815\\ud55c \\uac70\\ub798\\ub97c \\ud55c \\ubd80\\ub3d9\\uc0b0\\uc744 \\uacf5\\uac1c\\ud558\\uba74 \\ub418\\ub294 \\uc77c\\\"\\uc774\\ub77c\\uba70 \\\"\\ubca0\\uc77c\\uc5d0 \\uac10\\ucdb0\\uc9c4 \\ucc44 \\uc774\\ud574\\ub2f9\\uc0ac\\uc790\\uc5d0 \\uc758\\ud574 \\uc120\\uc815\\ub41c \\ud074\\ub9b0\\ubd80\\ub3d9\\uc0b0\\uc744 \\ud65c\\uc6a9\\ud55c\\ub2e4\\ub294 \\uac74 \\ubd88\\uacf5\\uc815\\ud558\\ub2e4\\\"\\uace0 \\uc8fc\\uc7a5\\ud588\\ub2e4.\\r\\n\\r\\r\\nC\\uc528\\ub294 \\uacbd\\ucc30 \\ub4f1 \\uc9c1\\uc704\\ub97c \\uc0ac\\uc6a9\\ud574 \\uc0ac\\uc775\\uc744 \\ucde8\\ud55c \\uc0ac\\uc2e4\\uc740 \\uc804\\ud600 \\uc5c6\\ub2e4\\uace0 \\uc120\\uc744 \\uadf8\\uc5c8\\ub2e4. \\uadf8\\ub294 \\\"\\uc785\\uc8fc\\uc790\\uc608\\uc815\\ud611\\uc758\\ud68c \\ud68c\\uc7a5\\uc73c\\ub85c\\uc11c \\uacf5\\uc778\\uc911\\uac1c\\uc5c5\\uc5d0 \\ub9cc\\uc5f0\\ud55c \\ud5c8\\uc704\\ub9e4\\ubb3c\\uc744 \\uc5c6\\uc560\\ub824\\ub358 \\ubaa9\\uc801\\uc73c\\ub85c \\ud074\\ub9b0\\ubd80\\ub3d9\\uc0b0\\uc744 \\uc0dd\\uac01\\ud588\\uc744 \\ubfd0\\\"\\uc774\\ub77c\\uba70 \\\"S\\ubd80\\ub3d9\\uc0b0\\uc5d4 \\ub3c8\\ub9cc \\ud22c\\uc790\\ud588\\uc9c0 \\uc6b4\\uc601\\uc5d0\\ub294 \\uc9c1\\uc811 \\uad00\\uc5ec\\ud558\\uace0 \\uc788\\uc9c0 \\uc54a\\ub2e4\\\"\\uace0 \\ud574\\uba85\\ud588\\ub2e4. \\\"\\r\\n\\r\\r\\n\\uacbd\\uae30\\ub0a8\\ubd80\\uacbd\\ucc30\\uccad\\uc7a5\\ub2d8 \\uc11c\\uc6b8\\uacbd\\ucc30\\uccad\\uc7a5\\ub2d8 .... \\r\\r\\n\\uc704 \\uc720\\uba85\\uc778\\uc740 \\ud604\\uc7ac \\uc800\\ud76c \\uc9c0\\uc5ed\\uc5d0\\uc11c \\ube44\\uc724\\ub9ac\\uc801\\uc778 \\ud589\\ub3d9\\uc744 \\uc77c\\uc0bc\\uace0 \\uc788\\uc2b5\\ub2c8\\ub2e4. \\r\\r\\n\\ube44\\uc724\\ub9ac\\uc801\\uc774\\ub77c\\ud568\\uc740 \\uc0c1\\uc5c5\\uc5d0 \\uc788\\uc5b4\\uc11c \\uc0c1\\ub3c4\\ub355\\uc774\\ub77c\\ub294\\uac83\\uc774 \\uc788\\uc9c0 \\uc54a\\uaca0\\uc2b5\\ub2c8\\uae4c?  \\r\\r\\n\\ubd80\\ub3d9\\uc0b0 \\uac70\\ub798\\uc9c8\\uc11c\\ub97c \\uad50\\ub780 \\uc2dc\\ud0a4\\uba70 \\uc601\\uc5c5\\uc744 \\ud558\\uace0 \\uc788\\ub294 \\ud589\\ud0dc\\uac00 \\uac1c\\uac1c\\uc778 \\uc0ac\\uc5c5\\uc790\\ub4e4\\uc5d0\\uac8c\\ub294 \\uc0c1\\ub2f9\\ud55c \\uc7ac\\uc0b0\\uad8c\\uce68\\ud574\\uac00 \\uc544\\ub2d0\\uc218\\uc5c6\\uc2b5\\ub2c8\\ub2e4. \\r\\r\\n\\uc790\\uc138\\ud55c \\ub0b4\\ub9c9\\uc744 \\ub9cc\\ub098\\uc11c \\uc774\\uc57c\\uae30 \\ub4dc\\ub9ac\\uace0 \\uc2f6\\uc2b5\\ub2c8\\ub2e4 !!! \\uae00\\uc774 \\ub108\\ubb34 \\uae38\\uc5b4\\uc9c0\\ub2c8 \\u3161.\\u3161\\r\\r\\n\\uc5b4\\ub5bb\\uac8c \\uc774\\ub7f0 \\uc0ac\\ub78c\\uc774 \\uad6d\\uac00\\uacf5\\ubb34\\uc6d0\\uc774 \\ub418\\uc5c8\\uace0 \\ud2b9\\ud788 \\uc120\\ub7c9\\ud55c \\uc2dc\\ubbfc\\uc744 \\uc704\\ud574 \\ubd09\\uc0ac\\ud558\\uace0 \\ub3c4\\uc640\\uc918\\uc57c\\ud558\\ub294 \\uc0ac\\ub78c\\uc774 \\uc774\\ub807\\uac8c \\ubcf8\\uc778\\uc758 \\uc0ac\\ub9ac\\uc0ac\\uc695\\uc744\\r\\r\\n\\ucc44\\uc6b0\\uae30 \\uc704\\ud574 \\uadf8 \\uc218\\ub9ce\\uc740 \\uc790\\uc601\\uc5c5\\uc790\\ub4e4\\uc744 \\uc6b8\\uac8c \\ub9cc\\ub4e4\\uace0 \\uacbd\\ucc30\\uc774\\ub77c\\ub294 \\uad8c\\ub825\\uc73c\\ub85c \\ub2e4\\ub4e4 \\uac00\\uc2b4\\uc553\\uc774\\ub97c \\ud558\\uac8c \\ud55c\\uac74\\uc9c0 \\ub3c4\\uc800\\ud788 \\ub0a9\\ub4dd\\uc774 \\uac00\\uc9c0\\uc54a\\uc2b5\\ub2c8\\ub2e4. \\r\\r\\n\\ub3c8\\uacfc \\uba85\\uc608 ,\\uad8c\\ub825 \\uadf8 \\ubaa8\\ub4e0\\uac83\\uc744 \\ub2e4 \\uc950\\ub824\\ub294 \\uc0ac\\ub78c\\uac19\\uc740\\ub370 \\uacbd\\ucc30\\uccad\\uc5d0\\uc11c \\uc774 \\uc0ac\\ub78c \\uc880 \\uba48\\ucdb0\\uc8fc\\uc2dc\\uaca0\\uc2b5\\ub2c8\\uae4c? \\r\\r\\n\\uadf8 \\uc0ac\\ub78c\\uc774 \\uc544\\ud30c\\ud2b8 \\ud68c\\uc7a5\\uc774\\uc600\\uace0! \\uacbd\\ucc30\\uc774\\ub77c\\uc11c ! \\ub2e8\\uc9c0\\ub0b440\\uac1c\\ubd80\\ub3d9\\uc0b0\\uc774 \\uc644\\uc804\\ud55c '\\uc744' \\uc785\\uc7a5\\uc774\\uace0 \\r\\r\\n\\uadf8\\ub798\\uc11c \\ub2e4\\ub4e4 \\ubb34\\uc11c\\uc6cc\\uc11c \\ubc8c\\ubc8c\\ubc8c \\ud560\\ubfd0\\uc785\\ub2c8\\ub2e4.\\r\\r\\n\\uc800\\ud76c\\ub294 \\ud798\\uc774 \\uc57d\\ud55c \\uc790\\uc601\\uc5c5\\uc790\\uc77c \\ubfd0\\uc774\\ub2c8\\uae4c\\uc694 . \\r\\r\\n\\uc65c \\uad6d\\uac00\\uacbd\\ucc30\\uacf5\\ubb34\\uc6d0\\uc774 \\ubd80\\ub3d9\\uc0b0\\uae4c\\uc9c0 \\uc6b4\\uc601\\ud558\\ub3c4\\ub85d \\ud558\\uc2ed\\ub2c8\\uae4c? \\r\\r\\n\\uacb8\\uc9c1\\uc774 \\uc9c0\\ubd84\\ud22c\\uc790\\ub294 \\ud574\\ub2f9\\uc774 \\uc548\\ub41c\\ub2e4\\ub294\\uac8c \\ub9d0\\uc774 \\ub429\\ub2c8\\uae4c????????? \\r\\r\\n\\uad6d\\uac00\\uacf5\\ubb34\\uc6d0\\uc758 \\uc695\\uc2ec\\uc774 \\ucc38\\uc73c\\ub85c \\ub118\\uce69\\ub2c8\\ub2e4. \\r\\r\\n\\uc774\\ubd84\\uc740 \\uc791\\ub144\\uc5d0 \\uba87\\uc5b5\\uc744 \\ubc8c\\uc5c8\\ub2f5\\ub2c8\\ub2e4. \\ubcf8\\uc778\\uc785\\uc73c\\ub85c \\ub9d0\\ud558\\uae30\\ub97c .. \\ube4c\\ub529\\ub3c4 \\uc0c0\\ub2e4\\ub354\\uad70\\uc694. \\uc5b4\\ub290 \\uc790\\uc601\\uc5c5\\uc790\\uc5d0\\uac8c \\uc790\\uae30\\ub294 \\uacbd\\ucc30\\ubcf4\\ub2e4 \\ubd80\\ub3d9\\uc0b0\\uc774 \\ub354 \\ubcf8\\uc778\\uc5d0\\uac8c \\ub9de\\ub2e4 \\ud588\\ub2f5\\ub2c8\\ub2e4. \\uadf8\\ub7fc \\uc2e4\\uc9c8\\uc801\\uc778 \\uc5c5\\ubb34\\ub3c4 \\ubd24\\ub2e4\\ub294\\uac78\\uae4c\\uc694? \\r\\r\\n\\uc774\\ubd84\\uacfc \\ub9de\\ub300\\uba74\\ud55c \\uace0\\uac1d\\ub4e4\\uc774 \\uc788\\ub294\\uc9c0 \\uc9c0\\uae08 \\ucc3e\\uace0 \\uc788\\uc2b5\\ub2c8\\ub2e4. \\uc870\\uc0ac \\uc880 \\ud574\\uc8fc\\uc2dc\\uaca0\\uc2b5\\ub2c8\\uae4c? \\r\\r\\n\\uc774\\ubc88\\uc5d0 \\uacf5\\uc778\\uc911\\uac1c\\uc0ac \\uc790\\uaca9\\uc99d\\ub3c4 \\ucde8\\ub4dd\\ud588\\ub2e4\\ub354\\uad70\\uc694. \\ubb34\\ucc99 \\uc26c\\uc5c8\\ub2e4\\uace0 \\ud588\\ub2e4\\ub354\\uad70\\uc694.  \\uc804 \\ubaa8\\ub4e0\\uac8c \\ub2e4 \\uce74\\ub354\\ub77c \\ud1b5\\uc2e0\\uc774\\uae38 \\ubc14\\ub78d\\ub2c8\\ub2e4.  \\r\\r\\n\\uc138\\uc0c1\\uc740 \\uc815\\ub9d0 \\ubd88\\uacf5\\ud3c9\\ud558\\ub2c8\\uae4c\\uc694. \\r\\r\\n\\uc774\\ub7f0\\uc0ac\\ub78c\\uc740 \\ub2e4 \\uac00\\uc838\\uc11c \\ucc38 \\uc88b\\uaca0\\uc2b5\\ub2c8\\ub2e4. \\r\\r\\n\\uacbd\\ucc30\\uccad\\uc5d0\\uc11c \\uacb8\\uc9c1\\uc744 \\ubcf4\\ud638\\uae4c\\uc9c0 \\ud574\\uc8fc\\uace0\\uc788\\uc73c\\ub2c8 ...... \\r\\r\\n\\ubcf8\\uc778\\uc758 \\uc0ac\\uc775\\uc744 \\ucde8\\ud558\\uae30\\uc704\\ud574 \\ud074\\ub9b0\\ubd80\\ub3d9\\uc0b0\\uc774\\ub78d\\uc2dc\\uace0 \\ub9cc\\ub4e4\\uc5b4\\uc11c \\uadf8 250\\uac1c \\ub418\\ub294 \\ubd80\\ub3d9\\uc0b0\\uc911\\uc5d0\\uc11c \\ub2e8 S\\ubd80\\ub3d9\\uc0b0\\ub9cc \\ud074\\ub9b0\\ubd80\\ub3d9\\uc0b0\\uc774\\ub77c \\ub9c8\\ub140\\uc0ac\\ub0e5\\ud558\\ub354\\ub2c8 \\uc54c\\uace0\\ubcf4\\ub2c8 S\\ubd80\\ub3d9\\uc0b0\\uc774 \\ubcf8\\uc778\\uc774 \\ud22c\\uc790\\ud55c \\ubd80\\ub3d9\\uc0b0\\uc774\\uc600\\uace0.. \\uadf8\\ub85c\\uc778\\ud574 \\uc544\\ubb34\\uac83\\ub3c4 \\ubaa8\\ub974\\ub294 \\uc800\\ud76c\\uac19\\uc740 \\ubd80\\ub3d9\\uc0b0\\ub4e4\\uc740 \\uc190\\uac00\\ub77d\\ub9cc \\ube68\\uace0 \\uc788\\uc5c8\\ub124\\uc694 .. \\r\\n\\r\\r\\n\\uacf5\\uc778\\uc911\\uac1c\\uc0ac\\ud611\\ud68c\\uc5d0\\uac8c\\ub3c4 \\ubc14\\ub78d\\ub2c8\\ub2e4. \\r\\r\\n\\uacf5\\uc778\\uc911\\uac1c\\uc0ac\\uac00 \\uc544\\ub2cc\\uc790\\uac00 \\ubd80\\ub3d9\\uc0b0 \\uc6b4\\uc601\\uc744 \\ud558\\ub294 \\ubb38\\ud654\\ub294 \\ub354\\uc774\\uc0c1 \\uc5c6\\uc5b4\\uc838\\uc57c\\ud569\\ub2c8\\ub2e4. \\r\\r\\n\\ub5b3\\ub2e4\\ubc29 , \\ub2e4\\uc6b4\\uacc4\\uc57d\\uc744 \\ubc25\\uba39\\ub4ef\\uc774 \\ud588\\ub358\\ubd84\\ub4e4\\uaed8\\uc11c \\uc9c0\\ub3c4\\ub97c \\ud558\\uba70 \\ud611\\ud68c\\uc784\\uc6d0\\uc73c\\ub85c\\ub294 \\uacc4\\uc2dc\\uba74 \\uc548\\ub41c\\ub2e4\\uace0 \\uc0dd\\uac01\\ud569\\ub2c8\\ub2e4. !!! \\r\\r\\n\\ubd80\\ub3d9\\uc0b0 \\ubb38\\ud654\\uac00 \\ud558\\ub8e8\\uc18d\\ud788 \\uac1c\\uc120\\ub418\\uae30\\ub97c \\ubc14\\ub78d\\ub2c8\\ub2e4. \\r\\r\\n\\uc9c0\\uae08 \\ud604\\uc7ac \\uc800\\ud76c \\uc9c0\\uc5ed\\uc5d0\\uc11c \\uc77c\\uc5b4\\ub098\\uace0 \\uc788\\ub294 \\uc77c\\ub4e4\\uc744 \\ucde8\\ud569\\ud558\\uc154\\uc11c \\ud574\\uacb0\\ud574\\uc8fc\\uc2dc\\uae38 \\uac04\\uace1\\ud788 \\ubd80\\ud0c1\\ub4dc\\ub9bd\\ub2c8\\ub2e4. \\r\\r\\n\\uc800\\ud76c\\ub294 \\uac08\\uacf3\\uc774 \\uc5c6\\uc5b4\\uc84c\\uc2b5\\ub2c8\\ub2e4.... \\uc815\\ub9d0 \\uc8fd\\uace0\\uc2f6\\uc744\\uc815\\ub3c4\\ub85c\\uc694 .. \\r\\n\\r\\r\\n\\uace0\\uac1d\\uc744 \\uc6b0\\ub871\\ud558\\uace0 \\ubd80\\ub3d9\\uc0b0\\uc744 \\uc6b0\\ub871\\ud558\\ub294 \\ube44\\uc591\\uc2ec\\uc801\\uc778 \\ubd80\\ub3d9\\uc0b0 , \\ube44\\uc724\\ub9ac\\uc801\\uc778 \\ubd80\\ub3d9\\uc0b0\\uc740 \\uc5c6\\uc5b4\\uc838\\uc57c \\ud55c\\ub2e4\\uace0 \\uc0dd\\uac01\\ud569\\ub2c8\\ub2e4. \\r\\n\\r\\r\\n\\uc81c \\ube14\\ub85c\\uadf8 \\uc0ac\\uc774\\ud2b8 \\ub9c1\\ud06c\\uac78\\uace0\\uac11\\ub2c8\\ub2e4. \\r\\n\\r\\r\\nhttps://blog.naver.com/********\\r\\n\\r\\n [\\ubcf8 \\uac8c\\uc2dc\\ubb3c\\uc758 \\uc77c\\ubd80 \\ub0b4\\uc6a9\\uc774 \\uad6d\\ubbfc \\uccad\\uc6d0 \\uc694\\uac74\\uc5d0 \\uc704\\ubc30\\ub418\\uc5b4 \\uad00\\ub9ac\\uc790\\uc5d0 \\uc758\\ud574 \\uc218\\uc815\\ub418\\uc5c8\\uc2b5\\ub2c8\\ub2e4]\",\n          \"\\uc5ec\\ub2f9\\uc774 21\\ub300 \\uad6d\\ud68c \\uc0c1\\uc784\\uc704\\uc6d0\\uc7a5 18\\uc11d \\uc804\\uad8c\\uc744 \\uac16\\uaca0\\ub2e4\\ub294 \\uc785\\uc7a5\\uc744 \\ub0c8\\uc2b5\\ub2c8\\ub2e4. \\uc774\\uac83\\uc740 \\uc0bc\\uad8c\\ubd84\\ub9bd\\uc758 \\ucde8\\uc9c0\\ub97c \\ud6fc\\uc190\\ud558\\ub294 \\uac83\\uc740 \\ubb3c\\ub860 \\uad6d\\uac00\\ub97c \\ud30c\\ud0c4 \\uc9c0\\uacbd\\uc5d0 \\uc774\\ub974\\uaca0\\ub2e4\\ub294 \\ub9d0\\uc785\\ub2c8\\ub2e4. \\uad6d\\ud68c \\uc6d0\\uad6c\\uc131\\uc758 \\ubcf8\\uaca9\\uc801 \\ud611\\uc758 \\uc804\\uc784\\uc5d0\\ub3c4 \\ubd88\\uad6c\\ud558\\uace0 177\\uc11d\\uc744 \\uac00\\uc9c4 \\uacf5\\ub8e1\\uc5ec\\ub2f9\\uc774\\ub77c\\ub294 \\uc774\\uc720\\ub85c 18\\uc11d \\uc804\\uad8c\\uc744 \\uc694\\uad6c\\ud558\\ub294 \\ubc14\\uc774\\uba74 \\uc57c\\ub2f9\\uacfc \\uc57c\\ub2f9\\uc744 \\uc9c0\\uc9c0\\ud558\\ub294 \\uad6d\\ubbfc\\uc744 \\uc815\\ub9d0 \\uac1c\\u318d\\ub3fc\\uc9c0\\ub85c \\ubcf4\\ub294 \\uaf34\\uc785\\ub2c8\\ub2e4. \\uc774\\ub300\\ub85c \\uac00\\ub2e4\\uac00\\ub294 \\uac70\\ub300 \\uc591\\ub2f9\\uacfc \\uc18c\\uc218 \\uc815\\ub2f9\\uc774 \\ub9d0\\ud558\\ub294 \\uad6d\\ud68c\\ubc95 \\uc808\\ucc28\\ub300\\ub85c\\uc758 \\uac1c\\uc6d0\\uc740 \\uc0dd\\uac01\\ud560 \\uc218\\ub3c4 \\uc5c6\\uc2b5\\ub2c8\\ub2e4. 21\\ub300 \\uad6d\\ud68c\\uac00 \\uad6d\\ud68c\\ubc95 \\uc808\\ucc28\\ub300\\ub85c \\uc6d0\\uad6c\\uc131 \\ud611\\uc0c1\\uc744 \\ub2a6\\ucd94\\uace0 \\uac1c\\uc6d0 \\uc2dc\\uae30\\uac00 \\ubbf8\\ub904\\uc9c4\\ub2e4\\uba74 \\ud589\\uc815\\ubd80\\uc778 \\uccad\\uc640\\ub300\\uc758 \\ub300\\ud1b5\\ub839\\uc774 \\ub098\\uc11c \\uc81c21\\ub300 \\uad6d\\ud68c\\ud574\\uc0b0\\uad8c\\uc744 \\ub0b4\\ub824\\uc904 \\uac83\\uc744 \\uc694\\uad6c\\ud558\\ub294 \\ubc14\\uc785\\ub2c8\\ub2e4.\"\n        ],\n        \"semantic_type\": \"\",\n        \"description\": \"\"\n      }\n    },\n    {\n      \"column\": \"count\",\n      \"properties\": {\n        \"dtype\": \"category\",\n        \"num_unique_values\": 4209,\n        \"samples\": [\n          \"5,238\",\n          \"4,007\",\n          \"5,611\"\n        ],\n        \"semantic_type\": \"\",\n        \"description\": \"\"\n      }\n    },\n    {\n      \"column\": \"end\",\n      \"properties\": {\n        \"dtype\": \"object\",\n        \"num_unique_values\": 270,\n        \"samples\": [\n          \"2020-03-15\",\n          \"2020-07-01\",\n          \"2020-05-16\"\n        ],\n        \"semantic_type\": \"\",\n        \"description\": \"\"\n      }\n    },\n    {\n      \"column\": \"start\",\n      \"properties\": {\n        \"dtype\": \"object\",\n        \"num_unique_values\": 270,\n        \"samples\": [\n          \"2020-02-14\",\n          \"2020-06-01\",\n          \"2020-04-16\"\n        ],\n        \"semantic_type\": \"\",\n        \"description\": \"\"\n      }\n    },\n    {\n      \"column\": \"title\",\n      \"properties\": {\n        \"dtype\": \"string\",\n        \"num_unique_values\": 10853,\n        \"samples\": [\n          \"\\uc2e0\\ucc9c\\uc9c0\\uad50\\uc8fc \\uc774**\\ub97c \\ub300\\ud1b5\\ub839 \\uae34\\uae09\\uba85\\ub839 \\ubc1c\\ub3d9\\uc73c\\ub85c \\uc778\\uc2e0\\uad6c\\uc18d\\uc744 \\uccad\\uc6d0\\ud569\\ub2c8\\ub2e4\",\n          \"\\uacbd\\uae30\\ub3c4 \\uacf5\\uacf5\\uc774\\uc1a1\\uc9c0\\uc6d0\\ub2e8 \\uc989\\uac01 \\uc911\\ub2e8\\ud574\\uc57c \\ud569\\ub2c8\\ub2e4\",\n          \"\\uc678\\uad50\\ubd80\\uc758 \\uc2e0\\ub8b0\\ub97c \\ubb34\\ub108\\ub728\\ub9ac\\uace0 \\uc8fc\\uc2dd\\uc2dc\\uc7a5\\uc744 \\uad50\\ub780\\uc2dc\\ud0a8 \\uae30\\uc790\\ub97c \\uc5c4\\ubc8c\\uc5d0 \\ucc98\\ud574\\uc8fc\\uc2ed\\uc2dc\\uc694.\"\n        ],\n        \"semantic_type\": \"\",\n        \"description\": \"\"\n      }\n    }\n  ]\n}"
            }
          },
          "metadata": {},
          "execution_count": 4
        }
      ],
      "source": [
        "df = pd.read_csv('data/crawling.csv')\n",
        "df.head()"
      ]
    },
    {
      "cell_type": "markdown",
      "metadata": {
        "id": "xsUtiQpA0LX8"
      },
      "source": [
        "## Preprocessing"
      ]
    },
    {
      "cell_type": "code",
      "execution_count": 5,
      "metadata": {
        "collapsed": true,
        "colab": {
          "base_uri": "https://localhost:8080/",
          "height": 122
        },
        "id": "I7T0yGQQ0LX8",
        "outputId": "acf3b1ac-6296-4518-e484-84afb97220bf"
      },
      "outputs": [
        {
          "output_type": "execute_result",
          "data": {
            "text/plain": [
              "'우리 나라 코스피 시총이 미국 애플보다 작다는 설이 돌 정도로 한국의 주식시장은 저평가된 시장이라고 합니다. 하지만 투자매력이 없다고도 합니다.이렇게 말하는 이유가 어디 있습니까? 바로 투자를 해도 수익을 기대하기 어렵다는 인식이 이미 널리 퍼져 있다는 것입니다.\\r\\n\\r\\r\\n지금은 투자매력이 없어서 그렇지,..우리 나라 시중 부동 자금이 어마어마 한 것으로 알려진 것과, 외국 투자 자본 또한 실로 어마무지하게 많다는 것도 알고있습니다. 그러나 이 투자금이 주식시장으로 원활하게 순환이 안되고 있다는데 있습니다.\\r\\n\\r\\r\\n정부는 유휴자금이 주식 시장으로 들어오게 분위기를 띄어줘야 하는데,... 그렇지 못한 현실이 안타깝다고 생각합니다.\\r\\r\\n국가가 지원해 돈 들이기가 어려우면,정부에서 정서적인 말이라도 활성화를 위한 관심표명과 정책적으로 지원만 해도 시장분위기는 많이 좋아질 것이라 확신합니다. \\r\\n\\r\\r\\n그래서 저는 정부에 다음과 같이 청원합니다.\\r\\r\\n주식시장에 더 큰 충격 오기 전에 정부가 예방 조치를 할 수 있는데까지 노력해 주시기를 당부 드리면서,...\\r\\n\\r\\r\\n첫째,주식시장 활성화와 부양에 대한 정부의 의지를 표명해 주십시오 \\r\\n\\r\\r\\n둘째,  코스닥 종목은 공매도 제외시켜 주세요.\\r\\n\\r\\r\\n공매도 제도를 아예 없애버리면 좋겠지만 제도를 살린다면 적용 시장에서 코스닥 종목은 제외 해 주어야 체력이 약한 코스닥 시장을 안정시킬 수 있다고 봅니다 \\r\\n\\r\\r\\n셋째, 거래시장의 주식거래세를 더 낮춰 주세요 \\r\\n\\r\\r\\n특히 개미(소액)투자에 동일한 요율로 부과하는 것은 너무나 불공정 하다고 봅니다.\\r\\n\\r\\r\\n넷째, 중,장기 보유자에 대한 우대 차원에서 보유기간을 설정하여 주세요.\\r\\n\\r\\r\\n이는 장기 보유자에 대한 혜택을 주어 초단타매매 등 시장 질서를 교란하는 투자자와 분리하는 제도를 도입해 시장 안정화에 기여해 주시길 간곡히 부탁드리면서 청원합니다.'"
            ],
            "application/vnd.google.colaboratory.intrinsic+json": {
              "type": "string"
            }
          },
          "metadata": {},
          "execution_count": 5
        }
      ],
      "source": [
        "# Before preprocessing\n",
        "df.loc[1]['content']"
      ]
    },
    {
      "cell_type": "code",
      "execution_count": 6,
      "metadata": {
        "collapsed": true,
        "id": "Z6jsdji80LX8"
      },
      "outputs": [],
      "source": [
        "import re\n",
        "\n",
        "def remove_white_space(text):\n",
        "    text = re.sub(r'[\\t\\r\\n\\f\\v]', ' ', str(text))\n",
        "    return text\n",
        "\n",
        "def remove_special_char(text):\n",
        "    text = re.sub('[^ ㄱ-ㅣ가-힣 0-9]+', ' ', str(text))\n",
        "    return text\n",
        "\n",
        "df.title = df.title.apply(remove_white_space)\n",
        "df.title = df.title.apply(remove_special_char)\n",
        "\n",
        "df.content = df.content.apply(remove_white_space)\n",
        "df.content = df.content.apply(remove_special_char)"
      ]
    },
    {
      "cell_type": "code",
      "execution_count": 7,
      "metadata": {
        "collapsed": true,
        "colab": {
          "base_uri": "https://localhost:8080/",
          "height": 122
        },
        "id": "ExvcSGDi0LX8",
        "outputId": "b7176799-a8f8-410f-df75-db203e272837"
      },
      "outputs": [
        {
          "output_type": "execute_result",
          "data": {
            "text/plain": [
              "'우리 나라 코스피 시총이 미국 애플보다 작다는 설이 돌 정도로 한국의 주식시장은 저평가된 시장이라고 합니다  하지만 투자매력이 없다고도 합니다 이렇게 말하는 이유가 어디 있습니까  바로 투자를 해도 수익을 기대하기 어렵다는 인식이 이미 널리 퍼져 있다는 것입니다      지금은 투자매력이 없어서 그렇지 우리 나라 시중 부동 자금이 어마어마 한 것으로 알려진 것과  외국 투자 자본 또한 실로 어마무지하게 많다는 것도 알고있습니다  그러나 이 투자금이 주식시장으로 원활하게 순환이 안되고 있다는데 있습니다      정부는 유휴자금이 주식 시장으로 들어오게 분위기를 띄어줘야 하는데  그렇지 못한 현실이 안타깝다고 생각합니다    국가가 지원해 돈 들이기가 어려우면 정부에서 정서적인 말이라도 활성화를 위한 관심표명과 정책적으로 지원만 해도 시장분위기는 많이 좋아질 것이라 확신합니다       그래서 저는 정부에 다음과 같이 청원합니다    주식시장에 더 큰 충격 오기 전에 정부가 예방 조치를 할 수 있는데까지 노력해 주시기를 당부 드리면서      첫째 주식시장 활성화와 부양에 대한 정부의 의지를 표명해 주십시오      둘째   코스닥 종목은 공매도 제외시켜 주세요      공매도 제도를 아예 없애버리면 좋겠지만 제도를 살린다면 적용 시장에서 코스닥 종목은 제외 해 주어야 체력이 약한 코스닥 시장을 안정시킬 수 있다고 봅니다      셋째  거래시장의 주식거래세를 더 낮춰 주세요      특히 개미 소액 투자에 동일한 요율로 부과하는 것은 너무나 불공정 하다고 봅니다      넷째  중 장기 보유자에 대한 우대 차원에서 보유기간을 설정하여 주세요      이는 장기 보유자에 대한 혜택을 주어 초단타매매 등 시장 질서를 교란하는 투자자와 분리하는 제도를 도입해 시장 안정화에 기여해 주시길 간곡히 부탁드리면서 청원합니다 '"
            ],
            "application/vnd.google.colaboratory.intrinsic+json": {
              "type": "string"
            }
          },
          "metadata": {},
          "execution_count": 7
        }
      ],
      "source": [
        "# After preprocess\n",
        "df.loc[1]['content']"
      ]
    },
    {
      "cell_type": "markdown",
      "metadata": {
        "id": "ZnjdP-pV0LX8"
      },
      "source": [
        "# 2.3 토크나이징 및 변수 생성"
      ]
    },
    {
      "cell_type": "code",
      "source": [
        "!pip install konlpy"
      ],
      "metadata": {
        "colab": {
          "base_uri": "https://localhost:8080/"
        },
        "id": "9uU2sn7tDUYN",
        "outputId": "cb54382b-c6d1-4739-e4cf-dd336311bad2"
      },
      "execution_count": 8,
      "outputs": [
        {
          "output_type": "stream",
          "name": "stdout",
          "text": [
            "Collecting konlpy\n",
            "  Downloading konlpy-0.6.0-py2.py3-none-any.whl (19.4 MB)\n",
            "\u001b[2K     \u001b[90m━━━━━━━━━━━━━━━━━━━━━━━━━━━━━━━━━━━━━━━━\u001b[0m \u001b[32m19.4/19.4 MB\u001b[0m \u001b[31m36.3 MB/s\u001b[0m eta \u001b[36m0:00:00\u001b[0m\n",
            "\u001b[?25hCollecting JPype1>=0.7.0 (from konlpy)\n",
            "  Downloading JPype1-1.5.0-cp310-cp310-manylinux_2_17_x86_64.manylinux2014_x86_64.whl (488 kB)\n",
            "\u001b[2K     \u001b[90m━━━━━━━━━━━━━━━━━━━━━━━━━━━━━━━━━━━━━━━━\u001b[0m \u001b[32m488.6/488.6 kB\u001b[0m \u001b[31m37.4 MB/s\u001b[0m eta \u001b[36m0:00:00\u001b[0m\n",
            "\u001b[?25hRequirement already satisfied: lxml>=4.1.0 in /usr/local/lib/python3.10/dist-packages (from konlpy) (4.9.4)\n",
            "Requirement already satisfied: numpy>=1.6 in /usr/local/lib/python3.10/dist-packages (from konlpy) (1.25.2)\n",
            "Requirement already satisfied: packaging in /usr/local/lib/python3.10/dist-packages (from JPype1>=0.7.0->konlpy) (24.1)\n",
            "Installing collected packages: JPype1, konlpy\n",
            "Successfully installed JPype1-1.5.0 konlpy-0.6.0\n"
          ]
        }
      ]
    },
    {
      "cell_type": "code",
      "execution_count": 9,
      "metadata": {
        "collapsed": true,
        "id": "zvQdMvHa0LX8"
      },
      "outputs": [],
      "source": [
        "from konlpy.tag import Okt\n",
        "\n",
        "okt = Okt()\n",
        "\n",
        "df['title_token'] = df.title.apply(okt.morphs)\n",
        "df['content_token'] = df.content.apply(okt.nouns)"
      ]
    },
    {
      "cell_type": "code",
      "execution_count": 10,
      "metadata": {
        "collapsed": true,
        "colab": {
          "base_uri": "https://localhost:8080/"
        },
        "id": "w3BOoCGP0LX9",
        "outputId": "5829aff4-3d94-4ebc-b393-5c73a34139d2"
      },
      "outputs": [
        {
          "output_type": "stream",
          "name": "stdout",
          "text": [
            "category         object\n",
            "content          object\n",
            "count             int64\n",
            "end              object\n",
            "start            object\n",
            "title            object\n",
            "title_token      object\n",
            "content_token    object\n",
            "token_final      object\n",
            "dtype: object\n"
          ]
        }
      ],
      "source": [
        "df['token_final'] = df.title_token + df.content_token\n",
        "\n",
        "df['count'] = df['count'].replace({',' : ''}, regex = True).apply(lambda x : int(x))\n",
        "\n",
        "print(df.dtypes)\n",
        "\n",
        "df['label'] = df['count'].apply(lambda x: 'Yes' if x>=1000 else 'No')"
      ]
    },
    {
      "cell_type": "code",
      "execution_count": 11,
      "metadata": {
        "collapsed": true,
        "id": "RrwS-SZ90LX9"
      },
      "outputs": [],
      "source": [
        "df_drop = df[['token_final', 'label']]"
      ]
    },
    {
      "cell_type": "code",
      "execution_count": 12,
      "metadata": {
        "collapsed": true,
        "colab": {
          "base_uri": "https://localhost:8080/",
          "height": 206
        },
        "id": "35TuK7uO0LX9",
        "outputId": "04e75963-36ae-42f9-883d-354e3a13d15a"
      },
      "outputs": [
        {
          "output_type": "execute_result",
          "data": {
            "text/plain": [
              "                                         token_final label\n",
              "0  [서울, 지방, 병무청, 탈의실, 에, 설치, 된, 에, 대한, 진상, 규명, 을,...    No\n",
              "1  [주식시장, 활성화, 및, 소액, 개미, 투자자, 보호, 우리, 나라, 코스피, 총...    No\n",
              "2  [교정, 기관, 의, 민낮, 일로, 국민, 청원, 신청, 저, 구치소, 교도관, 이...    No\n",
              "3  [미세먼지, 저, 감, 대책, 미세먼지, 심각, 성은, 이제, 적극, 대안, 요구,...    No\n",
              "4  [악질, 세, 입자, 방지, 를, 위, 한, 세, 입자, 보호, 법, 을, 재정, ...   Yes"
            ],
            "text/html": [
              "\n",
              "  <div id=\"df-be46b7ae-a88c-4cf9-87d2-94fe9a561017\" class=\"colab-df-container\">\n",
              "    <div>\n",
              "<style scoped>\n",
              "    .dataframe tbody tr th:only-of-type {\n",
              "        vertical-align: middle;\n",
              "    }\n",
              "\n",
              "    .dataframe tbody tr th {\n",
              "        vertical-align: top;\n",
              "    }\n",
              "\n",
              "    .dataframe thead th {\n",
              "        text-align: right;\n",
              "    }\n",
              "</style>\n",
              "<table border=\"1\" class=\"dataframe\">\n",
              "  <thead>\n",
              "    <tr style=\"text-align: right;\">\n",
              "      <th></th>\n",
              "      <th>token_final</th>\n",
              "      <th>label</th>\n",
              "    </tr>\n",
              "  </thead>\n",
              "  <tbody>\n",
              "    <tr>\n",
              "      <th>0</th>\n",
              "      <td>[서울, 지방, 병무청, 탈의실, 에, 설치, 된, 에, 대한, 진상, 규명, 을,...</td>\n",
              "      <td>No</td>\n",
              "    </tr>\n",
              "    <tr>\n",
              "      <th>1</th>\n",
              "      <td>[주식시장, 활성화, 및, 소액, 개미, 투자자, 보호, 우리, 나라, 코스피, 총...</td>\n",
              "      <td>No</td>\n",
              "    </tr>\n",
              "    <tr>\n",
              "      <th>2</th>\n",
              "      <td>[교정, 기관, 의, 민낮, 일로, 국민, 청원, 신청, 저, 구치소, 교도관, 이...</td>\n",
              "      <td>No</td>\n",
              "    </tr>\n",
              "    <tr>\n",
              "      <th>3</th>\n",
              "      <td>[미세먼지, 저, 감, 대책, 미세먼지, 심각, 성은, 이제, 적극, 대안, 요구,...</td>\n",
              "      <td>No</td>\n",
              "    </tr>\n",
              "    <tr>\n",
              "      <th>4</th>\n",
              "      <td>[악질, 세, 입자, 방지, 를, 위, 한, 세, 입자, 보호, 법, 을, 재정, ...</td>\n",
              "      <td>Yes</td>\n",
              "    </tr>\n",
              "  </tbody>\n",
              "</table>\n",
              "</div>\n",
              "    <div class=\"colab-df-buttons\">\n",
              "\n",
              "  <div class=\"colab-df-container\">\n",
              "    <button class=\"colab-df-convert\" onclick=\"convertToInteractive('df-be46b7ae-a88c-4cf9-87d2-94fe9a561017')\"\n",
              "            title=\"Convert this dataframe to an interactive table.\"\n",
              "            style=\"display:none;\">\n",
              "\n",
              "  <svg xmlns=\"http://www.w3.org/2000/svg\" height=\"24px\" viewBox=\"0 -960 960 960\">\n",
              "    <path d=\"M120-120v-720h720v720H120Zm60-500h600v-160H180v160Zm220 220h160v-160H400v160Zm0 220h160v-160H400v160ZM180-400h160v-160H180v160Zm440 0h160v-160H620v160ZM180-180h160v-160H180v160Zm440 0h160v-160H620v160Z\"/>\n",
              "  </svg>\n",
              "    </button>\n",
              "\n",
              "  <style>\n",
              "    .colab-df-container {\n",
              "      display:flex;\n",
              "      gap: 12px;\n",
              "    }\n",
              "\n",
              "    .colab-df-convert {\n",
              "      background-color: #E8F0FE;\n",
              "      border: none;\n",
              "      border-radius: 50%;\n",
              "      cursor: pointer;\n",
              "      display: none;\n",
              "      fill: #1967D2;\n",
              "      height: 32px;\n",
              "      padding: 0 0 0 0;\n",
              "      width: 32px;\n",
              "    }\n",
              "\n",
              "    .colab-df-convert:hover {\n",
              "      background-color: #E2EBFA;\n",
              "      box-shadow: 0px 1px 2px rgba(60, 64, 67, 0.3), 0px 1px 3px 1px rgba(60, 64, 67, 0.15);\n",
              "      fill: #174EA6;\n",
              "    }\n",
              "\n",
              "    .colab-df-buttons div {\n",
              "      margin-bottom: 4px;\n",
              "    }\n",
              "\n",
              "    [theme=dark] .colab-df-convert {\n",
              "      background-color: #3B4455;\n",
              "      fill: #D2E3FC;\n",
              "    }\n",
              "\n",
              "    [theme=dark] .colab-df-convert:hover {\n",
              "      background-color: #434B5C;\n",
              "      box-shadow: 0px 1px 3px 1px rgba(0, 0, 0, 0.15);\n",
              "      filter: drop-shadow(0px 1px 2px rgba(0, 0, 0, 0.3));\n",
              "      fill: #FFFFFF;\n",
              "    }\n",
              "  </style>\n",
              "\n",
              "    <script>\n",
              "      const buttonEl =\n",
              "        document.querySelector('#df-be46b7ae-a88c-4cf9-87d2-94fe9a561017 button.colab-df-convert');\n",
              "      buttonEl.style.display =\n",
              "        google.colab.kernel.accessAllowed ? 'block' : 'none';\n",
              "\n",
              "      async function convertToInteractive(key) {\n",
              "        const element = document.querySelector('#df-be46b7ae-a88c-4cf9-87d2-94fe9a561017');\n",
              "        const dataTable =\n",
              "          await google.colab.kernel.invokeFunction('convertToInteractive',\n",
              "                                                    [key], {});\n",
              "        if (!dataTable) return;\n",
              "\n",
              "        const docLinkHtml = 'Like what you see? Visit the ' +\n",
              "          '<a target=\"_blank\" href=https://colab.research.google.com/notebooks/data_table.ipynb>data table notebook</a>'\n",
              "          + ' to learn more about interactive tables.';\n",
              "        element.innerHTML = '';\n",
              "        dataTable['output_type'] = 'display_data';\n",
              "        await google.colab.output.renderOutput(dataTable, element);\n",
              "        const docLink = document.createElement('div');\n",
              "        docLink.innerHTML = docLinkHtml;\n",
              "        element.appendChild(docLink);\n",
              "      }\n",
              "    </script>\n",
              "  </div>\n",
              "\n",
              "\n",
              "<div id=\"df-f64d197a-44d0-4cc9-ab8b-cd3e86af5ebb\">\n",
              "  <button class=\"colab-df-quickchart\" onclick=\"quickchart('df-f64d197a-44d0-4cc9-ab8b-cd3e86af5ebb')\"\n",
              "            title=\"Suggest charts\"\n",
              "            style=\"display:none;\">\n",
              "\n",
              "<svg xmlns=\"http://www.w3.org/2000/svg\" height=\"24px\"viewBox=\"0 0 24 24\"\n",
              "     width=\"24px\">\n",
              "    <g>\n",
              "        <path d=\"M19 3H5c-1.1 0-2 .9-2 2v14c0 1.1.9 2 2 2h14c1.1 0 2-.9 2-2V5c0-1.1-.9-2-2-2zM9 17H7v-7h2v7zm4 0h-2V7h2v10zm4 0h-2v-4h2v4z\"/>\n",
              "    </g>\n",
              "</svg>\n",
              "  </button>\n",
              "\n",
              "<style>\n",
              "  .colab-df-quickchart {\n",
              "      --bg-color: #E8F0FE;\n",
              "      --fill-color: #1967D2;\n",
              "      --hover-bg-color: #E2EBFA;\n",
              "      --hover-fill-color: #174EA6;\n",
              "      --disabled-fill-color: #AAA;\n",
              "      --disabled-bg-color: #DDD;\n",
              "  }\n",
              "\n",
              "  [theme=dark] .colab-df-quickchart {\n",
              "      --bg-color: #3B4455;\n",
              "      --fill-color: #D2E3FC;\n",
              "      --hover-bg-color: #434B5C;\n",
              "      --hover-fill-color: #FFFFFF;\n",
              "      --disabled-bg-color: #3B4455;\n",
              "      --disabled-fill-color: #666;\n",
              "  }\n",
              "\n",
              "  .colab-df-quickchart {\n",
              "    background-color: var(--bg-color);\n",
              "    border: none;\n",
              "    border-radius: 50%;\n",
              "    cursor: pointer;\n",
              "    display: none;\n",
              "    fill: var(--fill-color);\n",
              "    height: 32px;\n",
              "    padding: 0;\n",
              "    width: 32px;\n",
              "  }\n",
              "\n",
              "  .colab-df-quickchart:hover {\n",
              "    background-color: var(--hover-bg-color);\n",
              "    box-shadow: 0 1px 2px rgba(60, 64, 67, 0.3), 0 1px 3px 1px rgba(60, 64, 67, 0.15);\n",
              "    fill: var(--button-hover-fill-color);\n",
              "  }\n",
              "\n",
              "  .colab-df-quickchart-complete:disabled,\n",
              "  .colab-df-quickchart-complete:disabled:hover {\n",
              "    background-color: var(--disabled-bg-color);\n",
              "    fill: var(--disabled-fill-color);\n",
              "    box-shadow: none;\n",
              "  }\n",
              "\n",
              "  .colab-df-spinner {\n",
              "    border: 2px solid var(--fill-color);\n",
              "    border-color: transparent;\n",
              "    border-bottom-color: var(--fill-color);\n",
              "    animation:\n",
              "      spin 1s steps(1) infinite;\n",
              "  }\n",
              "\n",
              "  @keyframes spin {\n",
              "    0% {\n",
              "      border-color: transparent;\n",
              "      border-bottom-color: var(--fill-color);\n",
              "      border-left-color: var(--fill-color);\n",
              "    }\n",
              "    20% {\n",
              "      border-color: transparent;\n",
              "      border-left-color: var(--fill-color);\n",
              "      border-top-color: var(--fill-color);\n",
              "    }\n",
              "    30% {\n",
              "      border-color: transparent;\n",
              "      border-left-color: var(--fill-color);\n",
              "      border-top-color: var(--fill-color);\n",
              "      border-right-color: var(--fill-color);\n",
              "    }\n",
              "    40% {\n",
              "      border-color: transparent;\n",
              "      border-right-color: var(--fill-color);\n",
              "      border-top-color: var(--fill-color);\n",
              "    }\n",
              "    60% {\n",
              "      border-color: transparent;\n",
              "      border-right-color: var(--fill-color);\n",
              "    }\n",
              "    80% {\n",
              "      border-color: transparent;\n",
              "      border-right-color: var(--fill-color);\n",
              "      border-bottom-color: var(--fill-color);\n",
              "    }\n",
              "    90% {\n",
              "      border-color: transparent;\n",
              "      border-bottom-color: var(--fill-color);\n",
              "    }\n",
              "  }\n",
              "</style>\n",
              "\n",
              "  <script>\n",
              "    async function quickchart(key) {\n",
              "      const quickchartButtonEl =\n",
              "        document.querySelector('#' + key + ' button');\n",
              "      quickchartButtonEl.disabled = true;  // To prevent multiple clicks.\n",
              "      quickchartButtonEl.classList.add('colab-df-spinner');\n",
              "      try {\n",
              "        const charts = await google.colab.kernel.invokeFunction(\n",
              "            'suggestCharts', [key], {});\n",
              "      } catch (error) {\n",
              "        console.error('Error during call to suggestCharts:', error);\n",
              "      }\n",
              "      quickchartButtonEl.classList.remove('colab-df-spinner');\n",
              "      quickchartButtonEl.classList.add('colab-df-quickchart-complete');\n",
              "    }\n",
              "    (() => {\n",
              "      let quickchartButtonEl =\n",
              "        document.querySelector('#df-f64d197a-44d0-4cc9-ab8b-cd3e86af5ebb button');\n",
              "      quickchartButtonEl.style.display =\n",
              "        google.colab.kernel.accessAllowed ? 'block' : 'none';\n",
              "    })();\n",
              "  </script>\n",
              "</div>\n",
              "\n",
              "    </div>\n",
              "  </div>\n"
            ],
            "application/vnd.google.colaboratory.intrinsic+json": {
              "type": "dataframe",
              "variable_name": "df_drop",
              "summary": "{\n  \"name\": \"df_drop\",\n  \"rows\": 10881,\n  \"fields\": [\n    {\n      \"column\": \"token_final\",\n      \"properties\": {\n        \"dtype\": \"object\",\n        \"semantic_type\": \"\",\n        \"description\": \"\"\n      }\n    },\n    {\n      \"column\": \"label\",\n      \"properties\": {\n        \"dtype\": \"category\",\n        \"num_unique_values\": 2,\n        \"samples\": [\n          \"Yes\",\n          \"No\"\n        ],\n        \"semantic_type\": \"\",\n        \"description\": \"\"\n      }\n    }\n  ]\n}"
            }
          },
          "metadata": {},
          "execution_count": 12
        }
      ],
      "source": [
        "df_drop.head()"
      ]
    },
    {
      "cell_type": "code",
      "execution_count": 13,
      "metadata": {
        "collapsed": true,
        "id": "AjoKxLgj0LX9"
      },
      "outputs": [],
      "source": [
        "df_drop.to_csv('data/df_drop.csv', index = False, encoding = 'utf-8-sig')"
      ]
    },
    {
      "cell_type": "markdown",
      "metadata": {
        "id": "M9PNIU1B0LX9"
      },
      "source": [
        "## Word Embedding"
      ]
    },
    {
      "cell_type": "code",
      "execution_count": 14,
      "metadata": {
        "collapsed": true,
        "colab": {
          "base_uri": "https://localhost:8080/"
        },
        "id": "2saM8O8J0LX9",
        "outputId": "2562856e-4c1d-4628-a341-692b91ed72e5"
      },
      "outputs": [
        {
          "output_type": "stream",
          "name": "stdout",
          "text": [
            "Word2Vec<vocab=42642, vector_size=100, alpha=0.025>\n",
            "[('음주', 0.8906262516975403), ('뺑소니', 0.8236576318740845), ('무면허', 0.8191040754318237), ('전과자', 0.7793022990226746), ('살인자', 0.7740102410316467), ('살인죄', 0.7527707815170288), ('강력범죄', 0.751740038394928), ('윤창', 0.7453432083129883), ('경범죄', 0.7433671355247498), ('승자', 0.7316267490386963)]\n"
          ]
        }
      ],
      "source": [
        "from gensim.models import Word2Vec\n",
        "\n",
        "embedding_model = Word2Vec(\n",
        "    df_drop['token_final'],\n",
        "    sg = 1, # skip-gram\n",
        "    vector_size = 100,\n",
        "    window = 2,\n",
        "    min_count = 1,\n",
        "    workers = 4\n",
        ")\n",
        "\n",
        "print(embedding_model)\n",
        "\n",
        "model_result = embedding_model.wv.most_similar(\"음주운전\")\n",
        "print(model_result)"
      ]
    },
    {
      "cell_type": "code",
      "source": [
        "embedding_model.wv.save_word2vec_format('data/petitions_tokens_w2v')"
      ],
      "metadata": {
        "id": "XzovlW_DUqtO"
      },
      "execution_count": 15,
      "outputs": []
    },
    {
      "cell_type": "code",
      "execution_count": 16,
      "metadata": {
        "collapsed": true,
        "colab": {
          "base_uri": "https://localhost:8080/"
        },
        "id": "huV1n47E0LX9",
        "outputId": "ea25c566-a446-4034-87c2-b2209ccb7d6d"
      },
      "outputs": [
        {
          "output_type": "stream",
          "name": "stdout",
          "text": [
            "[('음주', 0.8906262516975403), ('뺑소니', 0.8236576318740845), ('무면허', 0.8191040754318237), ('전과자', 0.7793022990226746), ('살인자', 0.7740102410316467), ('살인죄', 0.7527707815170288), ('강력범죄', 0.751740038394928), ('윤창', 0.7453432083129883), ('경범죄', 0.7433671355247498), ('승자', 0.7316267490386963)]\n"
          ]
        }
      ],
      "source": [
        "from gensim.models import KeyedVectors\n",
        "\n",
        "loaded_model = KeyedVectors.load_word2vec_format('data/petitions_tokens_w2v')\n",
        "\n",
        "model_result = loaded_model.most_similar(\"음주운전\")\n",
        "print(model_result)"
      ]
    },
    {
      "cell_type": "markdown",
      "source": [
        "## Training"
      ],
      "metadata": {
        "id": "c6XyA-D7Dwgx"
      }
    },
    {
      "cell_type": "code",
      "execution_count": 17,
      "metadata": {
        "collapsed": true,
        "id": "WTveHwjj0LX9"
      },
      "outputs": [],
      "source": [
        "from numpy.random import RandomState\n",
        "\n",
        "\n",
        "rng = RandomState()\n",
        "\n",
        "tr = df_drop.sample(frac=0.8, random_state=rng)\n",
        "val = df_drop.loc[~df_drop.index.isin(tr.index)]\n",
        "\n",
        "tr.to_csv('data/train.csv', index=False, encoding='utf-8-sig')\n",
        "val.to_csv('data/validation.csv', index=False, encoding='utf-8-sig')"
      ]
    },
    {
      "cell_type": "code",
      "source": [
        "import torchtext\n",
        "from torchtext.data.utils import get_tokenizer\n",
        "from torchtext.vocab import build_vocab_from_iterator\n",
        "from torchtext.data.functional import numericalize_tokens_from_iterator\n",
        "\n",
        "\n",
        "# tokenizer = get_tokenizer(\"spacy\")\n",
        "\n",
        "def tokenizer(text):\n",
        "    text = re.sub('[\\[\\]\\']', '', str(text))\n",
        "    text = text.split(', ')\n",
        "    return text\n",
        "\n",
        "\n",
        "def token_gen(text):\n",
        "    \"\"\"\n",
        "    Tokenizes each sentence in a given text and yields the resulting tokens.\n",
        "    Args:\n",
        "        text (list[str]): A list of sentences to tokenize.\n",
        "    Yields:\n",
        "        list[str]: The resulting tokens from each sentence.\n",
        "    \"\"\"\n",
        "    for sent in text:\n",
        "        tokens = tokenizer(sent)\n",
        "        yield tokens\n"
      ],
      "metadata": {
        "colab": {
          "base_uri": "https://localhost:8080/"
        },
        "id": "9Dg-J6MDKMlB",
        "outputId": "0df15473-7b79-4424-fbb4-890752551a49"
      },
      "execution_count": 18,
      "outputs": [
        {
          "output_type": "stream",
          "name": "stderr",
          "text": [
            "/usr/local/lib/python3.10/dist-packages/torchtext/data/__init__.py:4: UserWarning: \n",
            "/!\\ IMPORTANT WARNING ABOUT TORCHTEXT STATUS /!\\ \n",
            "Torchtext is deprecated and the last released version will be 0.18 (this one). You can silence this warning by calling the following at the beginnign of your scripts: `import torchtext; torchtext.disable_torchtext_deprecation_warning()`\n",
            "  warnings.warn(torchtext._TORCHTEXT_DEPRECATION_MSG)\n",
            "/usr/local/lib/python3.10/dist-packages/torchtext/vocab/__init__.py:4: UserWarning: \n",
            "/!\\ IMPORTANT WARNING ABOUT TORCHTEXT STATUS /!\\ \n",
            "Torchtext is deprecated and the last released version will be 0.18 (this one). You can silence this warning by calling the following at the beginnign of your scripts: `import torchtext; torchtext.disable_torchtext_deprecation_warning()`\n",
            "  warnings.warn(torchtext._TORCHTEXT_DEPRECATION_MSG)\n",
            "/usr/local/lib/python3.10/dist-packages/torchtext/utils.py:4: UserWarning: \n",
            "/!\\ IMPORTANT WARNING ABOUT TORCHTEXT STATUS /!\\ \n",
            "Torchtext is deprecated and the last released version will be 0.18 (this one). You can silence this warning by calling the following at the beginnign of your scripts: `import torchtext; torchtext.disable_torchtext_deprecation_warning()`\n",
            "  warnings.warn(torchtext._TORCHTEXT_DEPRECATION_MSG)\n"
          ]
        }
      ]
    },
    {
      "cell_type": "code",
      "source": [
        "import pandas as pd\n",
        "\n",
        "\n",
        "df = pd.read_csv('data/train.csv')\n",
        "df_valid = pd.read_csv('data/validation.csv')"
      ],
      "metadata": {
        "id": "1hpHhYrWK06l"
      },
      "execution_count": 19,
      "outputs": []
    },
    {
      "cell_type": "code",
      "source": [
        "df.head()"
      ],
      "metadata": {
        "colab": {
          "base_uri": "https://localhost:8080/",
          "height": 206
        },
        "id": "tcvFq_oDRH__",
        "outputId": "ed89a474-3894-4e01-cee7-7c89b4d7ba88"
      },
      "execution_count": 20,
      "outputs": [
        {
          "output_type": "execute_result",
          "data": {
            "text/plain": [
              "                                         token_final label\n",
              "0  ['택배', '대형', '마트', '배송', '기사', '의', '과로', '를',...   Yes\n",
              "1  ['공도', '에', '국가', '균형발전', '을', '위', '한', '전철',...    No\n",
              "2  ['부실', '공사', '로', '국민', '의', '안전', '을', '위협', ...    No\n",
              "3  ['텔레', '그램', '성', '착취', '사건', '피해자', '분', '들',...   Yes\n",
              "4  ['알콜', '솜', '가격', '을', '내려주세요', '형', '당뇨', '질환...    No"
            ],
            "text/html": [
              "\n",
              "  <div id=\"df-f1be545a-d483-400f-8e61-19c44fbe4706\" class=\"colab-df-container\">\n",
              "    <div>\n",
              "<style scoped>\n",
              "    .dataframe tbody tr th:only-of-type {\n",
              "        vertical-align: middle;\n",
              "    }\n",
              "\n",
              "    .dataframe tbody tr th {\n",
              "        vertical-align: top;\n",
              "    }\n",
              "\n",
              "    .dataframe thead th {\n",
              "        text-align: right;\n",
              "    }\n",
              "</style>\n",
              "<table border=\"1\" class=\"dataframe\">\n",
              "  <thead>\n",
              "    <tr style=\"text-align: right;\">\n",
              "      <th></th>\n",
              "      <th>token_final</th>\n",
              "      <th>label</th>\n",
              "    </tr>\n",
              "  </thead>\n",
              "  <tbody>\n",
              "    <tr>\n",
              "      <th>0</th>\n",
              "      <td>['택배', '대형', '마트', '배송', '기사', '의', '과로', '를',...</td>\n",
              "      <td>Yes</td>\n",
              "    </tr>\n",
              "    <tr>\n",
              "      <th>1</th>\n",
              "      <td>['공도', '에', '국가', '균형발전', '을', '위', '한', '전철',...</td>\n",
              "      <td>No</td>\n",
              "    </tr>\n",
              "    <tr>\n",
              "      <th>2</th>\n",
              "      <td>['부실', '공사', '로', '국민', '의', '안전', '을', '위협', ...</td>\n",
              "      <td>No</td>\n",
              "    </tr>\n",
              "    <tr>\n",
              "      <th>3</th>\n",
              "      <td>['텔레', '그램', '성', '착취', '사건', '피해자', '분', '들',...</td>\n",
              "      <td>Yes</td>\n",
              "    </tr>\n",
              "    <tr>\n",
              "      <th>4</th>\n",
              "      <td>['알콜', '솜', '가격', '을', '내려주세요', '형', '당뇨', '질환...</td>\n",
              "      <td>No</td>\n",
              "    </tr>\n",
              "  </tbody>\n",
              "</table>\n",
              "</div>\n",
              "    <div class=\"colab-df-buttons\">\n",
              "\n",
              "  <div class=\"colab-df-container\">\n",
              "    <button class=\"colab-df-convert\" onclick=\"convertToInteractive('df-f1be545a-d483-400f-8e61-19c44fbe4706')\"\n",
              "            title=\"Convert this dataframe to an interactive table.\"\n",
              "            style=\"display:none;\">\n",
              "\n",
              "  <svg xmlns=\"http://www.w3.org/2000/svg\" height=\"24px\" viewBox=\"0 -960 960 960\">\n",
              "    <path d=\"M120-120v-720h720v720H120Zm60-500h600v-160H180v160Zm220 220h160v-160H400v160Zm0 220h160v-160H400v160ZM180-400h160v-160H180v160Zm440 0h160v-160H620v160ZM180-180h160v-160H180v160Zm440 0h160v-160H620v160Z\"/>\n",
              "  </svg>\n",
              "    </button>\n",
              "\n",
              "  <style>\n",
              "    .colab-df-container {\n",
              "      display:flex;\n",
              "      gap: 12px;\n",
              "    }\n",
              "\n",
              "    .colab-df-convert {\n",
              "      background-color: #E8F0FE;\n",
              "      border: none;\n",
              "      border-radius: 50%;\n",
              "      cursor: pointer;\n",
              "      display: none;\n",
              "      fill: #1967D2;\n",
              "      height: 32px;\n",
              "      padding: 0 0 0 0;\n",
              "      width: 32px;\n",
              "    }\n",
              "\n",
              "    .colab-df-convert:hover {\n",
              "      background-color: #E2EBFA;\n",
              "      box-shadow: 0px 1px 2px rgba(60, 64, 67, 0.3), 0px 1px 3px 1px rgba(60, 64, 67, 0.15);\n",
              "      fill: #174EA6;\n",
              "    }\n",
              "\n",
              "    .colab-df-buttons div {\n",
              "      margin-bottom: 4px;\n",
              "    }\n",
              "\n",
              "    [theme=dark] .colab-df-convert {\n",
              "      background-color: #3B4455;\n",
              "      fill: #D2E3FC;\n",
              "    }\n",
              "\n",
              "    [theme=dark] .colab-df-convert:hover {\n",
              "      background-color: #434B5C;\n",
              "      box-shadow: 0px 1px 3px 1px rgba(0, 0, 0, 0.15);\n",
              "      filter: drop-shadow(0px 1px 2px rgba(0, 0, 0, 0.3));\n",
              "      fill: #FFFFFF;\n",
              "    }\n",
              "  </style>\n",
              "\n",
              "    <script>\n",
              "      const buttonEl =\n",
              "        document.querySelector('#df-f1be545a-d483-400f-8e61-19c44fbe4706 button.colab-df-convert');\n",
              "      buttonEl.style.display =\n",
              "        google.colab.kernel.accessAllowed ? 'block' : 'none';\n",
              "\n",
              "      async function convertToInteractive(key) {\n",
              "        const element = document.querySelector('#df-f1be545a-d483-400f-8e61-19c44fbe4706');\n",
              "        const dataTable =\n",
              "          await google.colab.kernel.invokeFunction('convertToInteractive',\n",
              "                                                    [key], {});\n",
              "        if (!dataTable) return;\n",
              "\n",
              "        const docLinkHtml = 'Like what you see? Visit the ' +\n",
              "          '<a target=\"_blank\" href=https://colab.research.google.com/notebooks/data_table.ipynb>data table notebook</a>'\n",
              "          + ' to learn more about interactive tables.';\n",
              "        element.innerHTML = '';\n",
              "        dataTable['output_type'] = 'display_data';\n",
              "        await google.colab.output.renderOutput(dataTable, element);\n",
              "        const docLink = document.createElement('div');\n",
              "        docLink.innerHTML = docLinkHtml;\n",
              "        element.appendChild(docLink);\n",
              "      }\n",
              "    </script>\n",
              "  </div>\n",
              "\n",
              "\n",
              "<div id=\"df-0acc3842-7296-46c0-8ed4-6c68058b4294\">\n",
              "  <button class=\"colab-df-quickchart\" onclick=\"quickchart('df-0acc3842-7296-46c0-8ed4-6c68058b4294')\"\n",
              "            title=\"Suggest charts\"\n",
              "            style=\"display:none;\">\n",
              "\n",
              "<svg xmlns=\"http://www.w3.org/2000/svg\" height=\"24px\"viewBox=\"0 0 24 24\"\n",
              "     width=\"24px\">\n",
              "    <g>\n",
              "        <path d=\"M19 3H5c-1.1 0-2 .9-2 2v14c0 1.1.9 2 2 2h14c1.1 0 2-.9 2-2V5c0-1.1-.9-2-2-2zM9 17H7v-7h2v7zm4 0h-2V7h2v10zm4 0h-2v-4h2v4z\"/>\n",
              "    </g>\n",
              "</svg>\n",
              "  </button>\n",
              "\n",
              "<style>\n",
              "  .colab-df-quickchart {\n",
              "      --bg-color: #E8F0FE;\n",
              "      --fill-color: #1967D2;\n",
              "      --hover-bg-color: #E2EBFA;\n",
              "      --hover-fill-color: #174EA6;\n",
              "      --disabled-fill-color: #AAA;\n",
              "      --disabled-bg-color: #DDD;\n",
              "  }\n",
              "\n",
              "  [theme=dark] .colab-df-quickchart {\n",
              "      --bg-color: #3B4455;\n",
              "      --fill-color: #D2E3FC;\n",
              "      --hover-bg-color: #434B5C;\n",
              "      --hover-fill-color: #FFFFFF;\n",
              "      --disabled-bg-color: #3B4455;\n",
              "      --disabled-fill-color: #666;\n",
              "  }\n",
              "\n",
              "  .colab-df-quickchart {\n",
              "    background-color: var(--bg-color);\n",
              "    border: none;\n",
              "    border-radius: 50%;\n",
              "    cursor: pointer;\n",
              "    display: none;\n",
              "    fill: var(--fill-color);\n",
              "    height: 32px;\n",
              "    padding: 0;\n",
              "    width: 32px;\n",
              "  }\n",
              "\n",
              "  .colab-df-quickchart:hover {\n",
              "    background-color: var(--hover-bg-color);\n",
              "    box-shadow: 0 1px 2px rgba(60, 64, 67, 0.3), 0 1px 3px 1px rgba(60, 64, 67, 0.15);\n",
              "    fill: var(--button-hover-fill-color);\n",
              "  }\n",
              "\n",
              "  .colab-df-quickchart-complete:disabled,\n",
              "  .colab-df-quickchart-complete:disabled:hover {\n",
              "    background-color: var(--disabled-bg-color);\n",
              "    fill: var(--disabled-fill-color);\n",
              "    box-shadow: none;\n",
              "  }\n",
              "\n",
              "  .colab-df-spinner {\n",
              "    border: 2px solid var(--fill-color);\n",
              "    border-color: transparent;\n",
              "    border-bottom-color: var(--fill-color);\n",
              "    animation:\n",
              "      spin 1s steps(1) infinite;\n",
              "  }\n",
              "\n",
              "  @keyframes spin {\n",
              "    0% {\n",
              "      border-color: transparent;\n",
              "      border-bottom-color: var(--fill-color);\n",
              "      border-left-color: var(--fill-color);\n",
              "    }\n",
              "    20% {\n",
              "      border-color: transparent;\n",
              "      border-left-color: var(--fill-color);\n",
              "      border-top-color: var(--fill-color);\n",
              "    }\n",
              "    30% {\n",
              "      border-color: transparent;\n",
              "      border-left-color: var(--fill-color);\n",
              "      border-top-color: var(--fill-color);\n",
              "      border-right-color: var(--fill-color);\n",
              "    }\n",
              "    40% {\n",
              "      border-color: transparent;\n",
              "      border-right-color: var(--fill-color);\n",
              "      border-top-color: var(--fill-color);\n",
              "    }\n",
              "    60% {\n",
              "      border-color: transparent;\n",
              "      border-right-color: var(--fill-color);\n",
              "    }\n",
              "    80% {\n",
              "      border-color: transparent;\n",
              "      border-right-color: var(--fill-color);\n",
              "      border-bottom-color: var(--fill-color);\n",
              "    }\n",
              "    90% {\n",
              "      border-color: transparent;\n",
              "      border-bottom-color: var(--fill-color);\n",
              "    }\n",
              "  }\n",
              "</style>\n",
              "\n",
              "  <script>\n",
              "    async function quickchart(key) {\n",
              "      const quickchartButtonEl =\n",
              "        document.querySelector('#' + key + ' button');\n",
              "      quickchartButtonEl.disabled = true;  // To prevent multiple clicks.\n",
              "      quickchartButtonEl.classList.add('colab-df-spinner');\n",
              "      try {\n",
              "        const charts = await google.colab.kernel.invokeFunction(\n",
              "            'suggestCharts', [key], {});\n",
              "      } catch (error) {\n",
              "        console.error('Error during call to suggestCharts:', error);\n",
              "      }\n",
              "      quickchartButtonEl.classList.remove('colab-df-spinner');\n",
              "      quickchartButtonEl.classList.add('colab-df-quickchart-complete');\n",
              "    }\n",
              "    (() => {\n",
              "      let quickchartButtonEl =\n",
              "        document.querySelector('#df-0acc3842-7296-46c0-8ed4-6c68058b4294 button');\n",
              "      quickchartButtonEl.style.display =\n",
              "        google.colab.kernel.accessAllowed ? 'block' : 'none';\n",
              "    })();\n",
              "  </script>\n",
              "</div>\n",
              "\n",
              "    </div>\n",
              "  </div>\n"
            ],
            "application/vnd.google.colaboratory.intrinsic+json": {
              "type": "dataframe",
              "variable_name": "df",
              "summary": "{\n  \"name\": \"df\",\n  \"rows\": 8705,\n  \"fields\": [\n    {\n      \"column\": \"token_final\",\n      \"properties\": {\n        \"dtype\": \"string\",\n        \"num_unique_values\": 8701,\n        \"samples\": [\n          \"['9\\uc6d4', '\\uc2e0\\ud559', '\\uae30\\uc81c', '\\uac80\\ud1a0', '\\ub97c', '\\uc694\\uad6c', '\\ud569\\ub2c8\\ub2e4', '\\uc800', '\\ud604\\uc7ac', '\\ub300\\ud559\\uad50', '\\ub300\\ud559\\uc0dd', '\\uc774', '\\uae00', '\\uc9c0\\uae08', '\\uac1c\\ud559', '\\uc608\\uc815', '\\ub300\\ud559', '\\uc81c', '\\ud559\\uad50', '\\ub610\\ud55c', '\\uc628\\ub77c\\uc778', '\\uc218\\uc5c5', '\\uc9c4\\ud589', '\\uc911', '\\uc2e0\\ud559', '\\uae30\\uc81c', '\\ub300\\ud574', '\\ub300\\ud1b5\\ub839', '\\ub9d0\\uc500', '\\ubd80\\ubd84', '\\uae30\\uc0ac', '\\ud1b5\\ud574', '\\uc2e0\\ud559', '\\uae30\\uc81c', '\\ubc18\\ub300', '\\uac83', '\\ubcf4\\uace0', '\\uc218', '\\ucd08', '\\uc911\\uace0', '\\ub300\\ud559\\uc0dd', '\\uc22b\\uc790', '\\uc801\\uc9c0', '\\uba85', '\\uc804\\uc5fc', '\\uc21c\\uc2dd\\uac04', '\\uac83', '\\uadf8', '\\ud559\\uad50', '\\ud734\\uad50', '\\uac83', '\\ud559\\uad50', '\\ud734\\uad50', '\\ubc29\\uc5ed', '\\uadf8', '\\ud559\\uad50', '\\ubaa8\\ub4e0', '\\uc0ac\\ub78c', '\\uc790\\uac00', '\\uaca9\\ub9ac', '\\uac80\\uc0ac', '\\uac8c\\ub2e4\\uac00', '\\uac1c\\ud559', '\\uc2dc', '\\uba74', '\\ub9c8\\uc2a4\\ud06c', '\\uac83', '\\ub0ab\\ub2e4', '\\uc560\\ucd08', '\\ub4f1\\uad50', '\\uac83', '\\ub098\\uc740', '\\ubc29\\ud5a5', '\\uc694', '\\ub2e4\\uc218', '\\ub300\\ud559\\uc0dd', '\\uc628\\ub77c\\uc778', '\\uc218\\uc5c5', '\\ubd88\\ub9cc', '\\ud1a0\\ub85c', '\\ud574\\ub3c4', '\\uc2ed\\ub144', '\\uc804', '\\ub179\\ud654', '\\uac15\\uc758', '\\ud0c0', '\\uad50\\uc218', '\\uac15\\uc758', '\\uacfc\\uc81c', '\\ud558\\ub098\\ub85c', '\\uacfc\\uc81c', '\\ub4f1\\ub4f1', '\\ub300\\uba74', '\\uac15\\uc758', '\\uc9c8', '\\uac15\\uc758', '\\ub4f1\\ub85d\\uae08', '\\ud658\\ubd88', '\\uac00\\uc7a5', '\\ubb38\\uc81c\\uc810', '\\uccad\\uac01\\uc7a5\\uc560', '\\uccad\\uac01\\uc7a5\\uc560', '\\uc778\\ubd84', '\\ud559\\uc2b5', '\\uce68\\ud574', '\\ud654\\uba74', '\\ub179\\ud654', '\\uac15\\uc758', '\\uc774\\ud574', '\\uc218', '\\uc790\\ub3d9', '\\uc790\\ub9c9', '\\uc624\\ub958', '\\ud22c\\uc131\\uc774', '\\uad50\\uc218', '\\uac15\\uc758', '\\uc785', '\\ubaa8\\uc591', '\\ubcf4\\uace0', '\\uc218\\uc5c5', '\\ub18d\\uc544\\uc778', '\\uc218\\uc5c5', '\\ud569', '\\uac8c\\ub2e4\\uac00', '\\uc800', '\\uc2e4\\uc2b5', '\\uacfc\\ubaa9', '\\uac04\\ud638', '\\ud559\\uacfc', '\\uc7ac\\ud559', '\\uc911', '\\ud604\\uc7ac', '\\uc800\\ud76c', '\\ud559\\uacfc', '\\uc2e4\\uc2b5', '\\ub300\\uc2e0', '\\uc601\\ud654', '\\ubcf4\\uace0', '\\uac10\\uc0c1\\ubb38', '\\ub2e4\\ud050', '\\ubcf4\\uace0', '\\uac10\\uc0c1\\ubb38', '\\uc2e4\\uc2b5', '\\uc77c\\uc9c0', '\\uc791\\uc131', '\\uac70\\ub098', '\\ubcf4\\uace0\\uc11c', '\\uc791\\uc131', '\\ub4f1', '\\ud65c\\ub3d9', '\\uc808\\ub300', '\\uc9c1\\uc811', '\\ubcf4\\uace0', '\\uacbd\\ud5d8', '\\uc2e4\\uc2b5', '\\ub300\\uccb4', '\\uc0dd\\uac01', '\\uc0ac\\ud68c', '\\ud63c\\ub780', '\\uac83', '\\ubb38\\uc81c\\uc810', '\\uac83', '\\uc555\\ub2c8', '\\uc2e0\\ud559', '\\uae30\\uc81c', '\\uc544\\uc8fc', '\\uc608\\uc804', '\\uc885\\uc885', '\\uac70\\ub860', '\\uc0ac\\ud56d', '\\uad6d\\uc81c', '\\uae30\\uc900', '\\ud559\\ub144', '\\uc81c\\ub85c', '\\uad50\\ud658\\ud559\\uc0dd', '\\ub4f1', '\\uad6d\\uc81c', '\\uad50\\ub958', '\\uac83', '\\ubd04\\ubc29\\ud559', '\\uc218', '\\ub610\\ud55c', '\\uc5ec\\ub984\\ubc29\\ud559', '\\ud65c\\uc6a9', '\\ub300\\uc678', '\\ud65c\\ub3d9', '\\uc218\\ub2a5', '\\uc774\\ud6c4', '\\uc2dc\\uae30', '\\uc801\\uadf9', '\\ud65c\\uc6a9', '\\uc218', '\\uac83', '\\ubb34\\uc5c7', '\\uac1c\\uc6d4', '\\uac00\\ub7c9', '\\uc774', '\\uae30\\uac04', '\\ub3d9\\uc548', '\\ucf54\\ub85c\\ub098', '\\uc7a1', '\\uc218', '\\uaf2d', '\\uc2e4\\ud589', '\\uc81c\\ub3c4', '\\uad6d\\ubbfc', '\\uac74\\uac15', '\\uac83', '\\uc55e\\uc11c', '\\uc7a5\\ub2e8\\uc810', '\\ub610', '\\uc9c0\\uae08', '\\ubb38\\uc81c', '\\uc0ac\\ud56d', '\\uac00\\uc7a5', '\\uac83', '\\uac74\\uac15', '\\ubaa8\\ub450', '\\ub9c8\\uc74c', '\\uc57c\\uc678', '\\ud65c\\ub3d9', '\\uc218', '\\ub0a0', '\\uadf8', '\\ub0a0', '\\uac1c\\ud559', '\\uac1c\\uac15', '\\uc774', '\\uc0dd\\uac01', '\\uc885\\uc2dd', '\\ub354', '\\uc5f0\\uae30', '\\uc0dd\\uac01', '\\ud639', '\\uc0c1\\ud669', '\\ubc1c\\uc0dd', '\\uadf8\\ub300\\ub85c', '\\uc720\\uc9c0', '\\uacf5\\ubc31', '\\uac83', '\\ub610', '\\uac15\\uc81c', '\\uac1c\\ud559', '\\ub354', '\\uc720\\ud589', '\\uac83', '\\ub0ab\\ub2e4', '\\uc0dd\\uac01', '\\ub2e4\\uc2dc', '\\ubc88', '\\ub354', '\\uac80\\ud1a0', '\\uc694\\uad6c']\",\n          \"['8', '17', '\\uad6d\\uac00', '\\uac00', '\\uc9c0\\uc815', '\\ud55c', '\\ub300\\uccb4\\uacf5\\ud734\\uc77c', '\\uc5d0', '\\uc758\\ub8cc', '\\uc9c4\\ub3c4', '\\uc274', '\\uc218', '\\uc788\\ub3c4\\ub85d', '\\ud574\\uc8fc\\uc138\\uc694', '\\uc11c\\uc6b8', '\\ubcd1\\uc6d0', '\\uc77c', '\\uc758\\ub8cc', '\\uc9c4\\uc785', '\\ub2c8', '\\uc774', '\\uc2e0\\uc885', '\\ucf54\\ub85c\\ub098\\ubc14\\uc774\\ub7ec\\uc2a4', '\\uac10\\uc5fc\\uc99d', '\\ucf54\\ub85c\\ub098', '\\uc0ac\\ud0dc', '\\uc7a5\\uae30', '\\uc758\\ub8cc', '\\uc9c4\\uacfc', '\\uad6d\\ubbfc', '\\ud734\\uc2dd', '\\ubcf4\\uc7a5', '\\uc704\\ud574', '\\ub300\\uccb4\\uacf5\\ud734\\uc77c', '\\uc9c0\\uc815', '\\uba87\\uba87', '\\ub300\\ud615', '\\ubcd1\\uc6d0', '\\uc815\\uc0c1', '\\uc5c5\\ubb34', '\\uc6b4\\uc601', '\\uc608\\uc815', '\\ub300\\uccb4\\uacf5\\ud734\\uc77c', '\\uc815\\uc0c1', '\\uc6b4\\uc601', '\\uc815', '\\uc0ac\\ub78c', '\\uc784', '\\uc9c1\\uc811', '\\uc77c', '\\uc0ac\\ub78c', '\\uc815\\uc791', '\\ucf54\\ub85c\\ub098', '\\uc0ac\\ud0dc', '\\ucd5c\\uc804\\uc120', '\\uc77c', '\\uc758\\ub8cc', '\\uc9c4', '\\uc99d\\uac00', '\\uc5c5', '\\ubb34\\ub7c9', '\\ub9e4\\uc6b0', '\\uc0c1\\ud0dc', '\\ud734\\uac00', '\\uac00\\uba74', '\\ub204\\uad70\\uac00', '\\ubcf8\\uc778', '\\uc77c', '\\ub300\\uc2e0', '\\ub9c8\\uc74c', '\\ud734\\uac00', '\\uc4f0\\uae30', '\\uc0c1\\ud669', '\\ud558\\ub8e8', '\\ud734\\uc2dd', '\\ubcd1\\uc6d0', '\\uc77c\\ubc29', '\\uacb0\\uc815', '\\uadf8\\uac83', '\\ucf54\\ub85c\\ub098', '\\uc0ac\\ud0dc', '\\uc7a5\\uae30', '\\uc758\\ub8cc', '\\uc9c4', '\\uacfc', '\\uad6d\\ubbfc', '\\ud734\\uc2dd', '\\uc704\\ud574', '\\uad6d\\uac00', '\\uacb0\\uc815', '\\uacf5\\ud734\\uc77c', '\\ubcd1\\uc6d0', '\\uc77c\\ubc29', '\\uc5b4\\uae30', '\\uc758\\ub8cc', '\\uc9c4\\uc758', '\\ud734\\uc2dd', '\\uac83', '\\ube44\\uc778\\uac04', '\\ud589\\uc704', '\\uc0dd\\uac01', '\\ubcd1\\uc6d0', '\\uc6b4\\uc601', '\\uc5ec\\ubd80', '\\uac01', '\\ubcd1\\uc6d0', '\\uc18c\\uad00', '\\uacf5\\ud734\\uc77c', '\\ud734\\ubb34', '\\uad8c\\uace0', '\\uc774\\uc0c1', '\\uac15\\uc81c', '\\uac00\\uc9c0', '\\uc2dc\\uae30', '\\uc624\\ud788\\ub824', '\\ub300\\ud615', '\\ubcd1\\uc6d0', '\\uad6d\\ubb34', '\\ud68c\\uc758', '\\uacb0\\uc815', '\\ub0b4\\uc6a9', '\\uc900\\uc218', '\\ubaa8\\uc2b5', '\\uc0dd\\uac01', '\\ub530\\ub77c\\uc11c', '\\ubaa8\\ub4e0', '\\ubcd1\\uc6d0', '\\ucf54\\ub85c\\ub098', '\\ud658\\uc790', '\\uc9c4\\ub8cc', '\\uac70\\ub098', '\\uc120', '\\uc9c4\\ub8cc', '\\uc18c', '\\uc6b4\\uc601', '\\ubcd1\\uc6d0', '\\ub300\\ud574', '\\ub300\\uccb4\\uacf5\\ud734\\uc77c', '\\uc900\\uc218', '\\uac83', '\\ub300\\ud574', '\\ub2e4\\uc2dc', '\\ubc88', '\\uac15\\uc870', '\\uacf5\\uace0', '\\uac83']\",\n          \"['\\uc678\\uad6d', '\\uc5d0\\uc11c', '\\uc77c', '\\ud558\\ub294', '\\uc790\\ub140', '\\uc5d0\\uac8c', '\\ub9c8\\uc2a4\\ud06c', '\\ubcf4\\ub0c5\\ub2c8\\ub2e4', '\\uc6cc\\uc2f1\\ud134', '\\ub514\\uc528', '\\uc77c', '\\uc790\\ub140', '\\ucf54\\ub85c\\ub098', '\\ub9c8\\uc2a4\\ud06c', '\\ud55c\\ubc88', '\\uac1c', '\\uc81c\\ud55c', '\\ub2e4\\ub978', '\\ubb3c\\ud488', '\\ub3d9\\ubd09', '\\ub9c8\\uc2a4\\ud06c', '\\uac1c', '\\uad6c\\uc785', '\\uc6b0\\ud3b8', '\\ub8cc', '\\ud39c\\ub370\\ubbf9', '\\ud55c\\uad6d', '\\uc785\\uad6d', '\\uad6d', '\\ube44\\ub86f', '\\uc678\\uad6d\\uc778', '\\ucf54\\ub85c\\ub098', '\\uc9c4\\ub2e8', '\\uac80\\uc0ac', '\\uaca9\\ub9ac', '\\uc591\\uc131\\uc790', '\\uce58\\ub8cc', '\\ube44', '\\ub098\\ub77c', '\\ubb34\\ub8cc', '\\uc678\\uad6d', '\\ud63c\\uc790', '\\uc7ac\\ud0dd\\uadfc\\ubb34', '\\ub9c8\\uc2a4\\ud06c', '\\ud55c\\uc7a5', '\\uc81c\\ub300\\ub85c', '\\ubabb', '\\uc0ac\\uace0', '\\uace0\\ub9bd', '\\uc77c', '\\uad50\\ud3ec', '\\ud55c\\uad6d\\uc778', '\\ubd80\\ubaa8', '\\ub3c8', '\\uc0ac\\uc11c', '\\uc790\\ub140', '\\ub9c8\\uc2a4\\ud06c', '\\uaddc\\uc81c', '\\ud55c\\ubc88', '\\ub54c', '\\uc9c0\\ubd88', '\\uc815\\ucc45', '\\uc774\\ud574', '\\uc218', '\\ub9c8\\uc2a4\\ud06c', '\\uac1c', '\\ub2ec', '\\uc774\\uc81c', '\\ud55c\\uad6d', '\\uc911\\uad6d', '\\uc218\\uc785', '\\ub9c8\\ud2b8', '\\uac00\\uba74', '\\ubc31\\uc7a5', '\\uc9c4\\uc5f4', '\\uac00\\uc871', '\\uad00\\uacc4', '\\uc99d\\uba85\\uc11c', '\\uc81c\\ucd9c', '\\uac00\\uc871', '\\uad00\\uacc4', '\\uc99d\\uba85', '\\uc218', '\\ub2e4\\ub978', '\\ubb3c\\ud488', '\\ud5c8\\uc6a9', '\\uac1c\\uc218', '\\uc735\\ud1b5\\uc131', '\\ubc0c', '\\ud5c8\\uc6a9', '\\uccad\\uc6d0']\"\n        ],\n        \"semantic_type\": \"\",\n        \"description\": \"\"\n      }\n    },\n    {\n      \"column\": \"label\",\n      \"properties\": {\n        \"dtype\": \"category\",\n        \"num_unique_values\": 2,\n        \"samples\": [\n          \"No\",\n          \"Yes\"\n        ],\n        \"semantic_type\": \"\",\n        \"description\": \"\"\n      }\n    }\n  ]\n}"
            }
          },
          "metadata": {},
          "execution_count": 20
        }
      ]
    },
    {
      "cell_type": "code",
      "source": [
        "import torch\n",
        "from torch.nn.utils.rnn import pad_sequence\n",
        "\n",
        "\n",
        "vocab = build_vocab_from_iterator(token_gen(df['token_final']),specials=[\"<UNK>\"])\n",
        "vocab.set_default_index(vocab[\"<UNK>\"])  ## to handel OOV problem\n",
        "\n",
        "# numericalize tokens from iterator using vocab\n",
        "sequence = numericalize_tokens_from_iterator(vocab=vocab.get_stoi(),iterator=token_gen(df['token_final']))\n",
        "\n",
        "# create a list to store tokenized sequences\n",
        "token_ids = []\n",
        "for i in range(len(df)):\n",
        "    x = list(next(sequence))\n",
        "    token_ids.append(x)\n",
        "\n",
        "# Pad the sequences to the same length along dimension 0\n",
        "padded_text = pad_sequence([torch.tensor(x) for x in token_ids], batch_first=True, padding_value=0)"
      ],
      "metadata": {
        "id": "sf5dGr_LMX2-"
      },
      "execution_count": 21,
      "outputs": []
    },
    {
      "cell_type": "code",
      "source": [
        "# restrict the length of every sequence\n",
        "MAX_LENGTH = 100 # to restrict length every sequence\n",
        "padded_text = padded_text[:,:MAX_LENGTH]"
      ],
      "metadata": {
        "id": "EFs93VVtRZG3"
      },
      "execution_count": 22,
      "outputs": []
    },
    {
      "cell_type": "code",
      "source": [
        "df['label'] = df['label'].replace({'Yes': 1, 'No': 0})"
      ],
      "metadata": {
        "id": "RbqelMbARfJr"
      },
      "execution_count": 23,
      "outputs": []
    },
    {
      "cell_type": "code",
      "source": [
        "df_valid['label'] = df_valid['label'].replace({'Yes': 1, 'No': 0})"
      ],
      "metadata": {
        "id": "4PsnuNaURqBj"
      },
      "execution_count": 24,
      "outputs": []
    },
    {
      "cell_type": "code",
      "source": [
        "# label of the sentiment for train data\n",
        "label = df['label'].to_list()\n",
        "label= torch.tensor(label)"
      ],
      "metadata": {
        "id": "lxENu54BRbI_"
      },
      "execution_count": 25,
      "outputs": []
    },
    {
      "cell_type": "code",
      "source": [
        "# X_train,y_train\n",
        "X_train,y_train = padded_text,label\n",
        "\n",
        "\n",
        "# numericalize tokens from iterator using vocab for df_valid\n",
        "sequence_valid = numericalize_tokens_from_iterator(vocab=vocab,iterator=token_gen(df_valid['token_final']))\n",
        "\n",
        "# create a list to store tokenized sequences\n",
        "valid_token_ids = []\n",
        "for i in range(len(df_valid)):\n",
        "    x = list(next(sequence_valid))\n",
        "    valid_token_ids.append(x)\n",
        "\n",
        "# Pad the sequences to the same length along dimension 0\n",
        "padded_text_valid = pad_sequence([torch.tensor(x) for x in valid_token_ids], batch_first=True, padding_value=0)\n",
        "# here look, <UNK> will be assign to 0 and padding_idx will be assign also 0\n",
        "\n",
        "# restrict the length of every sequence upto MAX_LENGTH\n",
        "padded_text_valid = padded_text_valid[:,:MAX_LENGTH]\n",
        "\n",
        "label_valid = df_valid['label'].to_list()\n",
        "label_valid = torch.tensor(label_valid)\n",
        "\n",
        "# X_test,y_test\n",
        "X_test, y_test = padded_text_valid, label_valid\n",
        "\n",
        "\n",
        "# Determine the number of classes\n",
        "num_classes = len(label.unique())\n",
        "\n",
        "VOCAB_SIZE = len(vocab.get_stoi())\n",
        "weights = torch.FloatTensor(loaded_model.vectors)"
      ],
      "metadata": {
        "id": "K2CquVjnMwVX"
      },
      "execution_count": 26,
      "outputs": []
    },
    {
      "cell_type": "code",
      "source": [
        "import torch.nn as nn\n",
        "import torch.optim as optim\n",
        "import torch.nn.functional as F\n",
        "\n",
        "\n",
        "class TextCNN(nn.Module):\n",
        "    def __init__(self, w2v_weights, vocab_size, emb_dim, dim_channel, kernel_wins, num_class):\n",
        "        super(TextCNN, self).__init__()\n",
        "\n",
        "        self.vocab_size = vocab_size\n",
        "        self.embed = nn.Embedding.from_pretrained(w2v_weights)  # Reference: <https://stackoverflow.com/a/49802495/9012940>\n",
        "\n",
        "        self.convs = nn.ModuleList([nn.Conv2d(1, dim_channel, (w, emb_dim)) for w in kernel_wins])\n",
        "        self.relu = nn.ReLU()\n",
        "        self.dropout = nn.Dropout(0.4)\n",
        "        self.fc = nn.Linear(len(kernel_wins)*dim_channel, num_class)\n",
        "\n",
        "    def forward(self, x):\n",
        "\n",
        "        emb_x = self.embed(x)\n",
        "        emb_x = emb_x.unsqueeze(1)\n",
        "\n",
        "        con_x = [self.relu(conv(emb_x)) for conv in self.convs]\n",
        "\n",
        "        pool_x = [F.max_pool1d(x.squeeze(-1), x.size()[2]) for x in con_x]\n",
        "\n",
        "        fc_x = torch.cat(pool_x, dim=1)\n",
        "        fc_x = fc_x.squeeze(-1)\n",
        "        fc_x = self.dropout(fc_x)\n",
        "\n",
        "        logit = self.fc(fc_x)\n",
        "\n",
        "        return logit"
      ],
      "metadata": {
        "id": "ljAFYT0SMwMw"
      },
      "execution_count": 27,
      "outputs": []
    },
    {
      "cell_type": "code",
      "source": [
        "def train(model, device, train_itr, optimizer):\n",
        "\n",
        "    model.train()\n",
        "    corrects, train_loss = 0.0,0\n",
        "\n",
        "    for batch in train_itr:\n",
        "\n",
        "        text, target = batch\n",
        "        # text = torch.transpose(text, 0, 1)\n",
        "        # target.data.sub_(1)\n",
        "        text, target = text.to(device), target.to(device)\n",
        "\n",
        "        optimizer.zero_grad()\n",
        "        logit = model(text)\n",
        "        # print(logit)\n",
        "        # print(text)\n",
        "        # print(target)\n",
        "\n",
        "        loss = F.cross_entropy(logit, target)\n",
        "        loss.backward()\n",
        "        optimizer.step()\n",
        "\n",
        "        train_loss += loss.item()\n",
        "        result = torch.max(logit,1)[1]\n",
        "        corrects += (result.view(target.size()).data == target.data).sum()\n",
        "\n",
        "    train_loss /= len(train_itr.dataset)\n",
        "    accuracy = 100.0 * corrects / len(train_itr.dataset)\n",
        "\n",
        "    return train_loss, accuracy"
      ],
      "metadata": {
        "id": "YfwJ6c3QMwJ_"
      },
      "execution_count": 35,
      "outputs": []
    },
    {
      "cell_type": "code",
      "source": [
        "def evaluate(model, device, itr):\n",
        "\n",
        "    model.eval()\n",
        "    corrects, test_loss = 0.0, 0\n",
        "\n",
        "    for batch in itr:\n",
        "\n",
        "        text = batch[0]\n",
        "        target = batch[1]\n",
        "        # text = torch.transpose(text, 0, 1)\n",
        "        # target.data.sub_(1)\n",
        "        text, target = text.to(device), target.to(device)\n",
        "\n",
        "        logit = model(text)\n",
        "        loss = F.cross_entropy(logit, target)\n",
        "\n",
        "        test_loss += loss.item()\n",
        "        result = torch.max(logit,1)[1]\n",
        "        corrects += (result.view(target.size()).data == target.data).sum()\n",
        "\n",
        "    test_loss /= len(itr.dataset)\n",
        "    accuracy = 100.0 * corrects / len(itr.dataset)\n",
        "\n",
        "    return test_loss, accuracy"
      ],
      "metadata": {
        "id": "NBbRpfUwMXu4"
      },
      "execution_count": 29,
      "outputs": []
    },
    {
      "cell_type": "code",
      "source": [
        "device = torch.device(\"cuda\" if torch.cuda.is_available() else \"cpu\")\n",
        "if torch.backends.mps.is_available() and not torch.cuda.is_available():\n",
        "    device = torch.device(\"mps\")\n",
        "\n",
        "\n",
        "model = TextCNN(weights, VOCAB_SIZE, 100, 10, [3, 4, 5], 2).to(device)\n",
        "print(model)\n",
        "\n",
        "optimizer = optim.Adam(model.parameters(), lr=0.00005) #lr=0.001"
      ],
      "metadata": {
        "colab": {
          "base_uri": "https://localhost:8080/"
        },
        "id": "PG8Z_RziSZ6L",
        "outputId": "db7e72e8-2236-42fc-b14a-8330ed0da1df"
      },
      "execution_count": 45,
      "outputs": [
        {
          "output_type": "stream",
          "name": "stdout",
          "text": [
            "TextCNN(\n",
            "  (embed): Embedding(42642, 100)\n",
            "  (convs): ModuleList(\n",
            "    (0): Conv2d(1, 10, kernel_size=(3, 100), stride=(1, 1))\n",
            "    (1): Conv2d(1, 10, kernel_size=(4, 100), stride=(1, 1))\n",
            "    (2): Conv2d(1, 10, kernel_size=(5, 100), stride=(1, 1))\n",
            "  )\n",
            "  (relu): ReLU()\n",
            "  (dropout): Dropout(p=0.4, inplace=False)\n",
            "  (fc): Linear(in_features=30, out_features=2, bias=True)\n",
            ")\n"
          ]
        }
      ]
    },
    {
      "cell_type": "code",
      "source": [
        "X_train,y_train = X_train.to(device), y_train.to(device)\n",
        "X_test, y_test = X_test.to(device), y_test.to(device)\n",
        "\n",
        "zip = torch.utils.data.TensorDataset(X_train, y_train)\n",
        "train_iter = torch.utils.data.DataLoader(zip, batch_size=16, shuffle=True)"
      ],
      "metadata": {
        "id": "2Kbpk1mMVpvL"
      },
      "execution_count": 41,
      "outputs": []
    },
    {
      "cell_type": "code",
      "source": [
        "X_train.shape, y_train.shape"
      ],
      "metadata": {
        "colab": {
          "base_uri": "https://localhost:8080/"
        },
        "id": "qauU149pVwic",
        "outputId": "34e11e3c-aa1c-4d4a-e097-3ae27513cc87"
      },
      "execution_count": 42,
      "outputs": [
        {
          "output_type": "execute_result",
          "data": {
            "text/plain": [
              "(torch.Size([8705, 100]), torch.Size([8705]))"
            ]
          },
          "metadata": {},
          "execution_count": 42
        }
      ]
    },
    {
      "cell_type": "code",
      "source": [
        "for i in train_iter:\n",
        "    print(i)\n",
        "    break"
      ],
      "metadata": {
        "colab": {
          "base_uri": "https://localhost:8080/"
        },
        "id": "qeucrqsiVprh",
        "outputId": "15a6ef35-f1c5-405e-c097-80f743b98f0a"
      },
      "execution_count": 43,
      "outputs": [
        {
          "output_type": "stream",
          "name": "stdout",
          "text": [
            "[tensor([[   11,   901,  1127,  ...,  3118,  8010,    99],\n",
            "        [ 2054,   737,  1072,  ...,    66,   100,   247],\n",
            "        [14842,   573,  3214,  ..., 24025,    19,    41],\n",
            "        ...,\n",
            "        [  223,    43,   833,  ...,   192,   714,     1],\n",
            "        [    8,    86,  2431,  ...,    31,   200,  1578],\n",
            "        [  248,    68,   142,  ...,   476,   381,   124]], device='cuda:0'), tensor([1, 1, 0, 0, 1, 0, 0, 0, 0, 1, 0, 0, 0, 0, 1, 0], device='cuda:0')]\n"
          ]
        }
      ]
    },
    {
      "cell_type": "code",
      "source": [
        "best_test_acc = -1\n",
        "\n",
        "EPOCHS = 30\n",
        "\n",
        "for epoch in range(1, EPOCHS+1):\n",
        "    X_train,y_train = X_train.to(device), y_train.to(device)\n",
        "    X_test, y_test = X_test.to(device), y_test.to(device)\n",
        "\n",
        "    zip = torch.utils.data.TensorDataset(X_train, y_train)\n",
        "    train_iter = torch.utils.data.DataLoader(zip, batch_size=16, shuffle=True)\n",
        "\n",
        "    tr_loss, tr_acc = train(model, device, train_iter, optimizer)\n",
        "    print('Train Epoch: {} \\t Loss: {} \\t Accuracy: {}%'.format(epoch, tr_loss, tr_acc))\n",
        "\n",
        "    zip_val = torch.utils.data.TensorDataset(X_test, y_test)\n",
        "    val_iter = torch.utils.data.DataLoader(zip_val, batch_size=32, shuffle=True)\n",
        "\n",
        "    val_loss, val_acc = evaluate(model, device, val_iter)\n",
        "    print('Valid Epoch: {} \\t Loss: {} \\t Accuracy: {}%'.format(epoch, val_loss, val_acc))\n",
        "\n",
        "    if val_acc > best_test_acc:\n",
        "        best_test_acc = val_acc\n",
        "\n",
        "        print(\"model saves at {} accuracy\".format(best_test_acc))\n",
        "        torch.save(model.state_dict(), \"TextCNN_Best_Validation\")\n",
        "\n",
        "    print('-----------------------------------------------------------------------------')"
      ],
      "metadata": {
        "colab": {
          "base_uri": "https://localhost:8080/"
        },
        "id": "yaHRFfQ9NzkT",
        "outputId": "ded950c4-8519-4597-be52-75861f861cf7"
      },
      "execution_count": 46,
      "outputs": [
        {
          "output_type": "stream",
          "name": "stdout",
          "text": [
            "Train Epoch: 1 \t Loss: 0.043759050573308464 \t Accuracy: 52.41815185546875%\n",
            "Valid Epoch: 1 \t Loss: 0.021431220613200876 \t Accuracy: 55.83639907836914%\n",
            "model saves at 55.83639907836914 accuracy\n",
            "-----------------------------------------------------------------------------\n",
            "Train Epoch: 2 \t Loss: 0.04296595614097503 \t Accuracy: 55.611717224121094%\n",
            "Valid Epoch: 2 \t Loss: 0.02140745602767257 \t Accuracy: 55.83639907836914%\n",
            "-----------------------------------------------------------------------------\n",
            "Train Epoch: 3 \t Loss: 0.042857254708655465 \t Accuracy: 55.57725524902344%\n",
            "Valid Epoch: 3 \t Loss: 0.021391170811565483 \t Accuracy: 55.83639907836914%\n",
            "-----------------------------------------------------------------------------\n",
            "Train Epoch: 4 \t Loss: 0.04271595148708819 \t Accuracy: 56.484779357910156%\n",
            "Valid Epoch: 4 \t Loss: 0.021340382230632445 \t Accuracy: 55.83639907836914%\n",
            "-----------------------------------------------------------------------------\n",
            "Train Epoch: 5 \t Loss: 0.04250917362797062 \t Accuracy: 57.047672271728516%\n",
            "Valid Epoch: 5 \t Loss: 0.021317202926558608 \t Accuracy: 56.02022171020508%\n",
            "model saves at 56.02022171020508 accuracy\n",
            "-----------------------------------------------------------------------------\n",
            "Train Epoch: 6 \t Loss: 0.04242335617508031 \t Accuracy: 57.553131103515625%\n",
            "Valid Epoch: 6 \t Loss: 0.021290074047796866 \t Accuracy: 56.02022171020508%\n",
            "-----------------------------------------------------------------------------\n",
            "Train Epoch: 7 \t Loss: 0.042306828642630974 \t Accuracy: 57.80585861206055%\n",
            "Valid Epoch: 7 \t Loss: 0.021256333189632964 \t Accuracy: 56.25%\n",
            "model saves at 56.25 accuracy\n",
            "-----------------------------------------------------------------------------\n",
            "Train Epoch: 8 \t Loss: 0.04203622393194524 \t Accuracy: 58.8282585144043%\n",
            "Valid Epoch: 8 \t Loss: 0.021220552214585683 \t Accuracy: 56.525733947753906%\n",
            "model saves at 56.525733947753906 accuracy\n",
            "-----------------------------------------------------------------------------\n",
            "Train Epoch: 9 \t Loss: 0.041883475598352246 \t Accuracy: 59.20735168457031%\n",
            "Valid Epoch: 9 \t Loss: 0.021175683503422665 \t Accuracy: 57.03125%\n",
            "model saves at 57.03125 accuracy\n",
            "-----------------------------------------------------------------------------\n",
            "Train Epoch: 10 \t Loss: 0.041851579684214234 \t Accuracy: 59.60942077636719%\n",
            "Valid Epoch: 10 \t Loss: 0.021138217026258215 \t Accuracy: 57.12316131591797%\n",
            "model saves at 57.12316131591797 accuracy\n",
            "-----------------------------------------------------------------------------\n",
            "Train Epoch: 11 \t Loss: 0.04170235646038067 \t Accuracy: 59.31074142456055%\n",
            "Valid Epoch: 11 \t Loss: 0.021100374020855215 \t Accuracy: 57.26102828979492%\n",
            "model saves at 57.26102828979492 accuracy\n",
            "-----------------------------------------------------------------------------\n",
            "Train Epoch: 12 \t Loss: 0.04146606352464828 \t Accuracy: 61.25215530395508%\n",
            "Valid Epoch: 12 \t Loss: 0.02105859456145588 \t Accuracy: 57.766544342041016%\n",
            "model saves at 57.766544342041016 accuracy\n",
            "-----------------------------------------------------------------------------\n",
            "Train Epoch: 13 \t Loss: 0.04132928804444692 \t Accuracy: 61.401493072509766%\n",
            "Valid Epoch: 13 \t Loss: 0.02100703175015309 \t Accuracy: 59.007354736328125%\n",
            "model saves at 59.007354736328125 accuracy\n",
            "-----------------------------------------------------------------------------\n",
            "Train Epoch: 14 \t Loss: 0.04110887707957312 \t Accuracy: 62.32050704956055%\n",
            "Valid Epoch: 14 \t Loss: 0.02098004413111245 \t Accuracy: 58.04227828979492%\n",
            "-----------------------------------------------------------------------------\n",
            "Train Epoch: 15 \t Loss: 0.04087927743390263 \t Accuracy: 62.73406219482422%\n",
            "Valid Epoch: 15 \t Loss: 0.020935465499539587 \t Accuracy: 58.68566131591797%\n",
            "-----------------------------------------------------------------------------\n",
            "Train Epoch: 16 \t Loss: 0.04061543585444784 \t Accuracy: 63.80241394042969%\n",
            "Valid Epoch: 16 \t Loss: 0.020906678537892943 \t Accuracy: 58.50183868408203%\n",
            "-----------------------------------------------------------------------------\n",
            "Train Epoch: 17 \t Loss: 0.040300782188336645 \t Accuracy: 64.26191711425781%\n",
            "Valid Epoch: 17 \t Loss: 0.02084937228766434 \t Accuracy: 59.375%\n",
            "model saves at 59.375 accuracy\n",
            "-----------------------------------------------------------------------------\n",
            "Train Epoch: 18 \t Loss: 0.040376782273506724 \t Accuracy: 63.84836196899414%\n",
            "Valid Epoch: 18 \t Loss: 0.020813437781351453 \t Accuracy: 59.83456039428711%\n",
            "model saves at 59.83456039428711 accuracy\n",
            "-----------------------------------------------------------------------------\n",
            "Train Epoch: 19 \t Loss: 0.04028934374545786 \t Accuracy: 64.3193588256836%\n",
            "Valid Epoch: 19 \t Loss: 0.02079218319233726 \t Accuracy: 59.74264907836914%\n",
            "-----------------------------------------------------------------------------\n",
            "Train Epoch: 20 \t Loss: 0.040119391217579584 \t Accuracy: 64.50315856933594%\n",
            "Valid Epoch: 20 \t Loss: 0.020765610258368886 \t Accuracy: 59.97242736816406%\n",
            "model saves at 59.97242736816406 accuracy\n",
            "-----------------------------------------------------------------------------\n",
            "Train Epoch: 21 \t Loss: 0.03984627847627687 \t Accuracy: 64.93968963623047%\n",
            "Valid Epoch: 21 \t Loss: 0.020763461532838205 \t Accuracy: 59.788604736328125%\n",
            "-----------------------------------------------------------------------------\n",
            "Train Epoch: 22 \t Loss: 0.039741712562110766 \t Accuracy: 64.8363037109375%\n",
            "Valid Epoch: 22 \t Loss: 0.02070587591322906 \t Accuracy: 60.431983947753906%\n",
            "model saves at 60.431983947753906 accuracy\n",
            "-----------------------------------------------------------------------------\n",
            "Train Epoch: 23 \t Loss: 0.03953271068970682 \t Accuracy: 65.8242416381836%\n",
            "Valid Epoch: 23 \t Loss: 0.020678106448887026 \t Accuracy: 60.15625%\n",
            "-----------------------------------------------------------------------------\n",
            "Train Epoch: 24 \t Loss: 0.03940423770172715 \t Accuracy: 66.06548309326172%\n",
            "Valid Epoch: 24 \t Loss: 0.020647990544710088 \t Accuracy: 60.47793960571289%\n",
            "model saves at 60.47793960571289 accuracy\n",
            "-----------------------------------------------------------------------------\n",
            "Train Epoch: 25 \t Loss: 0.03916929820910875 \t Accuracy: 66.52498626708984%\n",
            "Valid Epoch: 25 \t Loss: 0.02063060477923821 \t Accuracy: 60.9375%\n",
            "model saves at 60.9375 accuracy\n",
            "-----------------------------------------------------------------------------\n",
            "Train Epoch: 26 \t Loss: 0.03913331611412548 \t Accuracy: 65.99655151367188%\n",
            "Valid Epoch: 26 \t Loss: 0.020599907839342076 \t Accuracy: 60.61581039428711%\n",
            "-----------------------------------------------------------------------------\n",
            "Train Epoch: 27 \t Loss: 0.038918088062407985 \t Accuracy: 66.51349639892578%\n",
            "Valid Epoch: 27 \t Loss: 0.020596939522553894 \t Accuracy: 60.70772171020508%\n",
            "-----------------------------------------------------------------------------\n",
            "Train Epoch: 28 \t Loss: 0.03869674453305349 \t Accuracy: 67.11085510253906%\n",
            "Valid Epoch: 28 \t Loss: 0.020562672193216926 \t Accuracy: 60.983455657958984%\n",
            "model saves at 60.983455657958984 accuracy\n",
            "-----------------------------------------------------------------------------\n",
            "Train Epoch: 29 \t Loss: 0.03875117599450604 \t Accuracy: 67.16829681396484%\n",
            "Valid Epoch: 29 \t Loss: 0.020543936831767067 \t Accuracy: 61.07536697387695%\n",
            "model saves at 61.07536697387695 accuracy\n",
            "-----------------------------------------------------------------------------\n",
            "Train Epoch: 30 \t Loss: 0.03839214370210988 \t Accuracy: 68.0873031616211%\n",
            "Valid Epoch: 30 \t Loss: 0.02053949171129395 \t Accuracy: 60.84558868408203%\n",
            "-----------------------------------------------------------------------------\n"
          ]
        }
      ]
    },
    {
      "cell_type": "code",
      "source": [],
      "metadata": {
        "id": "Aaky7O4_PIRJ"
      },
      "execution_count": null,
      "outputs": []
    }
  ],
  "metadata": {
    "kernelspec": {
      "display_name": "Python 3",
      "name": "python3"
    },
    "language_info": {
      "codemirror_mode": {
        "name": "ipython",
        "version": 3
      },
      "file_extension": ".py",
      "mimetype": "text/x-python",
      "name": "python",
      "nbconvert_exporter": "python",
      "pygments_lexer": "ipython3",
      "version": "3.6.4"
    },
    "colab": {
      "provenance": [],
      "gpuType": "T4"
    },
    "accelerator": "GPU"
  },
  "nbformat": 4,
  "nbformat_minor": 0
}